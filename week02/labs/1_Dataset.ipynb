{
 "cells": [
  {
   "cell_type": "markdown",
   "metadata": {
    "id": "qvjzLADllVZ6"
   },
   "source": [
    "# Dataset\n",
    "\n",
    "In this notebook you'll get used with the notions of dataset and dataset splitting\n",
    "\n",
    "---\n",
    "\n",
    "## Part 1: Understanding dataset\n",
    "\n",
    "In this part, you'll learn how to load and visualize datasets using scikit-learn."
   ]
  },
  {
   "cell_type": "code",
   "execution_count": 1,
   "metadata": {
    "colab": {
     "base_uri": "https://localhost:8080/"
    },
    "id": "S8c-P5b6nGo-",
    "outputId": "0278f1f4-c61b-477c-87d4-d33389fff9d9"
   },
   "outputs": [
    {
     "name": "stdout",
     "output_type": "stream",
     "text": [
      "Requirement already satisfied: numpy in /home/yugi/Documents/GitHub/Intro-to-ML/.conda/lib/python3.11/site-packages (2.1.3)\n",
      "Requirement already satisfied: matplotlib in /home/yugi/Documents/GitHub/Intro-to-ML/.conda/lib/python3.11/site-packages (3.9.2)\n",
      "Requirement already satisfied: contourpy>=1.0.1 in /home/yugi/Documents/GitHub/Intro-to-ML/.conda/lib/python3.11/site-packages (from matplotlib) (1.3.1)\n",
      "Requirement already satisfied: cycler>=0.10 in /home/yugi/Documents/GitHub/Intro-to-ML/.conda/lib/python3.11/site-packages (from matplotlib) (0.12.1)\n",
      "Requirement already satisfied: fonttools>=4.22.0 in /home/yugi/Documents/GitHub/Intro-to-ML/.conda/lib/python3.11/site-packages (from matplotlib) (4.55.0)\n",
      "Requirement already satisfied: kiwisolver>=1.3.1 in /home/yugi/Documents/GitHub/Intro-to-ML/.conda/lib/python3.11/site-packages (from matplotlib) (1.4.7)\n",
      "Requirement already satisfied: numpy>=1.23 in /home/yugi/Documents/GitHub/Intro-to-ML/.conda/lib/python3.11/site-packages (from matplotlib) (2.1.3)\n",
      "Requirement already satisfied: packaging>=20.0 in /home/yugi/Documents/GitHub/Intro-to-ML/.conda/lib/python3.11/site-packages (from matplotlib) (24.2)\n",
      "Requirement already satisfied: pillow>=8 in /home/yugi/Documents/GitHub/Intro-to-ML/.conda/lib/python3.11/site-packages (from matplotlib) (11.0.0)\n",
      "Requirement already satisfied: pyparsing>=2.3.1 in /home/yugi/Documents/GitHub/Intro-to-ML/.conda/lib/python3.11/site-packages (from matplotlib) (3.2.0)\n",
      "Requirement already satisfied: python-dateutil>=2.7 in /home/yugi/Documents/GitHub/Intro-to-ML/.conda/lib/python3.11/site-packages (from matplotlib) (2.9.0)\n",
      "Requirement already satisfied: six>=1.5 in /home/yugi/Documents/GitHub/Intro-to-ML/.conda/lib/python3.11/site-packages (from python-dateutil>=2.7->matplotlib) (1.16.0)\n",
      "Requirement already satisfied: scikit-learn in /home/yugi/Documents/GitHub/Intro-to-ML/.conda/lib/python3.11/site-packages (1.5.2)\n",
      "Requirement already satisfied: numpy>=1.19.5 in /home/yugi/Documents/GitHub/Intro-to-ML/.conda/lib/python3.11/site-packages (from scikit-learn) (2.1.3)\n",
      "Requirement already satisfied: scipy>=1.6.0 in /home/yugi/Documents/GitHub/Intro-to-ML/.conda/lib/python3.11/site-packages (from scikit-learn) (1.14.1)\n",
      "Requirement already satisfied: joblib>=1.2.0 in /home/yugi/Documents/GitHub/Intro-to-ML/.conda/lib/python3.11/site-packages (from scikit-learn) (1.4.2)\n",
      "Requirement already satisfied: threadpoolctl>=3.1.0 in /home/yugi/Documents/GitHub/Intro-to-ML/.conda/lib/python3.11/site-packages (from scikit-learn) (3.5.0)\n"
     ]
    }
   ],
   "source": [
    "!pip install numpy\n",
    "!pip install matplotlib\n",
    "!pip install scikit-learn"
   ]
  },
  {
   "cell_type": "code",
   "execution_count": 2,
   "metadata": {
    "id": "4lLqPU3Vodaw"
   },
   "outputs": [],
   "source": [
    "import matplotlib.pyplot as plt\n",
    "import numpy as np\n",
    "from sklearn import datasets\n",
    "from sklearn.model_selection import train_test_split"
   ]
  },
  {
   "cell_type": "markdown",
   "metadata": {
    "id": "SOIjgop_lZd7"
   },
   "source": [
    "### What is a Dataset?\n",
    "In machine learning, a dataset is a collection of data points used to train and test models. It typically includes:\n",
    "- **Features (input variables):** Attributes or properties used to make predictions.\n",
    "- **Target (output variable):** What we are trying to predict (for supervised learning).\n",
    "- **Samples:** Individual data points.\n",
    "\n",
    "We will work with the **Iris dataset**, a classic dataset used to classify flowers into one of three species based on their features.\n",
    "\n",
    "---\n",
    "\n",
    "### Loading and Exploring a Dataset\n",
    "\n",
    "#### Exercise 1: Load the Iris dataset\n",
    "We will use the `load_iris()` function from `sklearn.datasets` to load the Iris dataset and explore its structure."
   ]
  },
  {
   "cell_type": "code",
   "execution_count": 3,
   "metadata": {},
   "outputs": [],
   "source": [
    "# Load the Iris dataset\n",
    "\n",
    "# Print dataset description\n"
   ]
  },
  {
   "cell_type": "markdown",
   "metadata": {},
   "source": [
    "#### Exercise 2: Explore Dataset Attributes\n",
    "Print out key attributes like:\n",
    "- Features (`data`)\n",
    "- Target (`target`)\n",
    "- Feature names (`feature_names`)"
   ]
  },
  {
   "cell_type": "code",
   "execution_count": 4,
   "metadata": {},
   "outputs": [],
   "source": [
    "# Explore dataset attributes\n"
   ]
  },
  {
   "cell_type": "markdown",
   "metadata": {},
   "source": [
    "#### Exercise 3: Visualize the Data\n",
    "- Create scatter plots to explore relationships between features.\n",
    "- Use histograms to see the distribution of feature values."
   ]
  },
  {
   "cell_type": "code",
   "execution_count": null,
   "metadata": {
    "colab": {
     "base_uri": "https://localhost:8080/",
     "height": 472
    },
    "id": "fIlM984OlcO_",
    "outputId": "e037f615-67a9-4b29-ce66-419b597a87ed"
   },
   "outputs": [],
   "source": [
    "# Visualize the data\n"
   ]
  },
  {
   "cell_type": "markdown",
   "metadata": {},
   "source": [
    "### Exercise 4: Explore a Different Dataset\n",
    "This time, we’ll work with the **California Housing dataset**, which is used for regression tasks. Each data point represents a block group in California, with features describing socioeconomic and geographical characteristics, and the target being the median house price.\n",
    "\n",
    "Your tasks are:\n",
    "1. Load the California dataset using `fetch_california_housing`.\n",
    "2. Explore the dataset's structure:\n",
    "   - Print the dataset description.\n",
    "   - Check the names of the features and the target.\n",
    "   - Display the first few rows of data.\n",
    "3. Visualize:\n",
    "   - Create scatter plots to explore the relationship between a chosen feature and the target.\n",
    "   - Plot histograms for individual features to understand their distribution.\n"
   ]
  },
  {
   "cell_type": "code",
   "execution_count": 6,
   "metadata": {},
   "outputs": [],
   "source": [
    "# Load the California Housing dataset\n",
    "\n",
    "# Print dataset description\n",
    "\n",
    "# Explore dataset attributes\n",
    "\n",
    "# Visualize the data\n"
   ]
  },
  {
   "cell_type": "markdown",
   "metadata": {},
   "source": [
    "## Part 2: Dataset Splitting\n",
    "\n",
    "### Why Split a Dataset?\n",
    "To evaluate the performance of a machine learning model, it’s crucial to test it on data it hasn’t seen before. This ensures the model generalizes well to new data.\n",
    "\n",
    "- **Training Set**: Used to train the model.\n",
    "- **Testing Set**: Used to evaluate the model's performance on unseen data.\n",
    "\n",
    "### Exercise 5: Splitting a Dataset\n",
    "We will use `sklearn.model_selection.train_test_split` to split the dataset into training and testing sets. Use the california dataset loaded earlier.\n",
    "You will:\n",
    "1. Split the dataset into training and testing sets. You can use a classical 80% train, 20% test proportion.\n"
   ]
  },
  {
   "cell_type": "code",
   "execution_count": 7,
   "metadata": {},
   "outputs": [],
   "source": [
    "# Use the California dataset loaded earlier\n",
    "\n",
    "# Use train_test_split to create training and testing sets (80% train, 20% test)\n"
   ]
  },
  {
   "cell_type": "markdown",
   "metadata": {},
   "source": [
    "2. Explore the sizes of the resulting datasets."
   ]
  },
  {
   "cell_type": "code",
   "execution_count": 8,
   "metadata": {},
   "outputs": [],
   "source": [
    "# Print the shapes of the splits\n"
   ]
  },
  {
   "cell_type": "markdown",
   "metadata": {},
   "source": [
    "3. Visualize the training and testing distributions (for regression, visualize the target distributions)."
   ]
  },
  {
   "cell_type": "code",
   "execution_count": 9,
   "metadata": {},
   "outputs": [],
   "source": [
    "# Plot histograms of the training and testing target distributions\n"
   ]
  },
  {
   "cell_type": "markdown",
   "metadata": {},
   "source": [
    "#### Now feel free to explore more datasets. From scikit-learn or eslsewhere.\n",
    "\n",
    "https://scikit-learn.org/1.5/datasets/toy_dataset.html"
   ]
  },
  {
   "cell_type": "markdown",
   "metadata": {},
   "source": []
  }
 ],
 "metadata": {
  "colab": {
   "provenance": []
  },
  "kernelspec": {
   "display_name": "Python 3",
   "language": "python",
   "name": "python3"
  },
  "language_info": {
   "codemirror_mode": {
    "name": "ipython",
    "version": 3
   },
   "file_extension": ".py",
   "mimetype": "text/x-python",
   "name": "python",
   "nbconvert_exporter": "python",
   "pygments_lexer": "ipython3",
   "version": "3.11.10"
  }
 },
 "nbformat": 4,
 "nbformat_minor": 1
}
