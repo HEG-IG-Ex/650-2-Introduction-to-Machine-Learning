{
 "cells": [
  {
   "cell_type": "markdown",
   "metadata": {
    "id": "qvjzLADllVZ6"
   },
   "source": [
    "# Learning models & methods\n",
    "\n",
    "In this notebook you'll get used with the notions of classification & regression\n",
    "\n",
    "---\n",
    "\n",
    "## Task 1: Classification & Regression\n",
    "\n",
    "### What is Classification?\n",
    "Classification involves predicting a discrete category or class label. For example:\n",
    "- Predicting whether an email is **spam** or **not spam**.\n",
    "- Predicting the species of a flower.\n",
    "\n",
    "### What is Regression?\n",
    "Regression involves predicting a continuous value. For example:\n",
    "- Predicting house prices.\n",
    "- Estimating the temperature for tomorrow.\n",
    "\n",
    "In this section, you will:\n",
    "1. Implement two classification methods: Decision Trees and k-Nearest Neighbors (k-NN) using the Iris dataset.\n",
    "2. Implement one regression method: Linear Regression using the diabete dataset.\n",
    "\n",
    "For each model:\n",
    "- Split the dataset into training and testing sets.\n",
    "- Train the model on the training set.\n",
    "- Evaluate the model on the testing set using appropriate metrics."
   ]
  },
  {
   "cell_type": "code",
   "execution_count": null,
   "metadata": {
    "colab": {
     "base_uri": "https://localhost:8080/"
    },
    "id": "S8c-P5b6nGo-",
    "outputId": "0278f1f4-c61b-477c-87d4-d33389fff9d9"
   },
   "outputs": [],
   "source": [
    "!pip install numpy\n",
    "!pip install matplotlib\n",
    "!pip install scikit-learn"
   ]
  },
  {
   "cell_type": "code",
   "execution_count": 2,
   "metadata": {
    "id": "4lLqPU3Vodaw"
   },
   "outputs": [],
   "source": [
    "import matplotlib.pyplot as plt\n",
    "import numpy as np\n",
    "from sklearn import datasets\n",
    "from sklearn.model_selection import train_test_split"
   ]
  },
  {
   "cell_type": "markdown",
   "metadata": {},
   "source": [
    "In this section, you will:\n",
    "1. Implement two classification methods: Decision Trees and k-Nearest Neighbors (k-NN) using the Iris dataset.\n",
    "2. Implement one regression method: Linear Regression using the California Housing dataset.\n",
    "\n",
    "For each model:\n",
    "- Split the dataset into training and testing sets.\n",
    "- Train the model on the training set.\n",
    "- Evaluate the model on the testing set using appropriate metrics.\n",
    "\n",
    "---\n",
    "\n",
    "### Classification Tasks\n",
    "#### Exercise 1: Decision Tree Classifier\n",
    "Load the Iris dataset and split it into train and test, use only the first two features of the dataset (sepal length & width). "
   ]
  },
  {
   "cell_type": "code",
   "execution_count": 3,
   "metadata": {},
   "outputs": [],
   "source": [
    "# Load the Iris dataset\n",
    "\n",
    "# Split the Iris dataset\n"
   ]
  },
  {
   "cell_type": "markdown",
   "metadata": {},
   "source": [
    "Create a Decision Tree Classifier with `sklearn.tree.DecisionTreeClassifier()` and train it using the `fit()` function. You can try different values for the maximum depth."
   ]
  },
  {
   "cell_type": "code",
   "execution_count": null,
   "metadata": {},
   "outputs": [],
   "source": [
    "from sklearn.tree import DecisionTreeClassifier\n",
    "\n",
    "# Train a Decision Tree Classifier\n"
   ]
  },
  {
   "cell_type": "markdown",
   "metadata": {},
   "source": [
    "Make predictions using the `predict()` function and compare the results with the target values."
   ]
  },
  {
   "cell_type": "code",
   "execution_count": null,
   "metadata": {},
   "outputs": [],
   "source": [
    "# Make predictions and compare\n"
   ]
  },
  {
   "cell_type": "markdown",
   "metadata": {},
   "source": [
    "Here is a function to visualuze decision boundaries, try to understand what it's doing and use it to plot the boundaries of your decision tree model.\n",
    "\n",
    "You can also use the `sklearn.tree.plot_tree` function to visualize the tree architecture and try to understand what is each node doing."
   ]
  },
  {
   "cell_type": "code",
   "execution_count": null,
   "metadata": {},
   "outputs": [],
   "source": [
    "from sklearn.tree import plot_tree\n",
    "\n",
    "def plot_decision_boundary(model, X, y, title):\n",
    "    h = 0.02  # Step size in the mesh\n",
    "    x_min, x_max = X[:, 0].min() - 1, X[:, 0].max() + 1\n",
    "    y_min, y_max = X[:, 1].min() - 1, X[:, 1].max() + 1\n",
    "    xx, yy = np.meshgrid(np.arange(x_min, x_max, h), np.arange(y_min, y_max, h))\n",
    "    Z = model.predict(np.c_[xx.ravel(), yy.ravel()])\n",
    "    Z = Z.reshape(xx.shape)\n",
    "    plt.contourf(xx, yy, Z, cmap=plt.cm.RdYlBu, alpha=0.8)\n",
    "    plt.scatter(X[:, 0], X[:, 1], c=y, cmap=plt.cm.RdYlBu)\n",
    "    plt.xlabel('Sepal Length (cm)')\n",
    "    plt.ylabel('Sepal Width (cm)')\n",
    "    plt.title(title)\n",
    "    plt.show()\n",
    "\n",
    "# Visualize the boundaries and the tree architecture\n",
    "    "
   ]
  },
  {
   "cell_type": "markdown",
   "metadata": {},
   "source": [
    "#### Exercise 2: k-Nearest Neighbors Classifier\n",
    "Replicate the steps above with a a KNN classifier from `sklearn.neighbors.KNeighborsClassifier`. You can try different number of neighbors."
   ]
  },
  {
   "cell_type": "code",
   "execution_count": null,
   "metadata": {},
   "outputs": [],
   "source": [
    "from sklearn.neighbors import KNeighborsClassifier\n",
    "\n",
    "# Train the Classifier\n",
    "\n",
    "# Make predictions and compare\n"
   ]
  },
  {
   "cell_type": "markdown",
   "metadata": {},
   "source": [
    "Use once again the `plot_decision_boundary()` function to plot the boundaries of your KNN model."
   ]
  },
  {
   "cell_type": "code",
   "execution_count": null,
   "metadata": {},
   "outputs": [],
   "source": [
    "# Visualize the boundaries\n"
   ]
  },
  {
   "cell_type": "markdown",
   "metadata": {},
   "source": [
    "### Regression Task\n",
    "\n",
    "#### Exercise 3: Linear regression\n",
    "Load the diabete dataset from sklearn and split it into train and test. Use only the first feature (check the dataset parameters to see which one it is)."
   ]
  },
  {
   "cell_type": "code",
   "execution_count": null,
   "metadata": {},
   "outputs": [],
   "source": [
    "# Use the diabete dataset\n",
    "\n",
    "# Split the diabete dataset\n"
   ]
  },
  {
   "cell_type": "markdown",
   "metadata": {},
   "source": [
    "Create a Linear Regression Model with `sklearn.linear_model.LinearRegression()` and train it using the `fit()` function."
   ]
  },
  {
   "cell_type": "code",
   "execution_count": null,
   "metadata": {},
   "outputs": [],
   "source": [
    "from sklearn.linear_model import LinearRegression\n",
    "\n",
    "# Train a Linear Regression model\n"
   ]
  },
  {
   "cell_type": "markdown",
   "metadata": {},
   "source": [
    "Make predictions using the `predict()` function and compare the results with the target values."
   ]
  },
  {
   "cell_type": "code",
   "execution_count": null,
   "metadata": {},
   "outputs": [],
   "source": [
    "# Make predictions and compare\n"
   ]
  },
  {
   "cell_type": "markdown",
   "metadata": {},
   "source": [
    "## Task 2: Understanding Metrics\n",
    "\n",
    "### Classification Metrics\n",
    "- **Accuracy**: The proportion of correct predictions out of all predictions.\n",
    "- **Precision**: The proportion of true positives among the predicted positives.\n",
    "- **Recall**: The proportion of true positives among the actual positives.\n",
    "- **F1-Score**: The harmonic mean of precision and recall, useful for imbalanced datasets.\n",
    "\n",
    "### Regression Metrics\n",
    "- **Mean Squared Error (MSE)**: The average squared difference between predicted and actual values. Penalizes larger errors more.\n",
    "- **Mean Absolute Error (MAE)**: The average absolute difference between predicted and actual values.\n",
    "- **R² Score (Coefficient of Determination)**: Indicates how well the model explains the variance in the target. Values closer to 1 mean better fit.\n",
    "\n",
    "---\n",
    "\n",
    "### Exercise 4: Classification metrics\n",
    "\n",
    "Calculate and interpret the following metrics: Accuracy, Precision, Recall, and F1-Score using the Iris dataset with k-NN model.\n"
   ]
  },
  {
   "cell_type": "code",
   "execution_count": null,
   "metadata": {},
   "outputs": [],
   "source": [
    "from sklearn.metrics import accuracy_score, precision_score, recall_score, f1_score, classification_report\n",
    "\n",
    "# Load the Iris dataset\n",
    "\n",
    "# Split the Iris dataset\n",
    "\n",
    "# Train the Classifier\n",
    "\n",
    "# Make predictions\n",
    "\n",
    "# Calculate and print Accuracy, Precision, Recall and F1-Score\n",
    "\n",
    "# Calculate all of these using Classification Report\n"
   ]
  },
  {
   "cell_type": "markdown",
   "metadata": {},
   "source": [
    "### Exercise 5: Regression metrics\n",
    "\n",
    "Calculate and interpret MSE, MAE, and R² Score using the diabete dataset with Linear Regression."
   ]
  },
  {
   "cell_type": "code",
   "execution_count": null,
   "metadata": {},
   "outputs": [],
   "source": [
    "from sklearn.metrics import mean_squared_error, mean_absolute_error, r2_score\n",
    "\n",
    "# ULoad the diabete dataset\n",
    "\n",
    "# Split the diabete Housing dataset\n",
    "\n",
    "# Train a Linear Regression model\n",
    "\n",
    "# Make predictions\n",
    "\n",
    "# Calculate the mean Squared Error (MSE)\n",
    "\n",
    "# Calculate the mean Absolute Error (MAE)\n",
    "\n",
    "# Calculate the R^2 Score\n"
   ]
  },
  {
   "cell_type": "markdown",
   "metadata": {},
   "source": []
  }
 ],
 "metadata": {
  "colab": {
   "provenance": []
  },
  "kernelspec": {
   "display_name": "Python 3",
   "language": "python",
   "name": "python3"
  },
  "language_info": {
   "codemirror_mode": {
    "name": "ipython",
    "version": 3
   },
   "file_extension": ".py",
   "mimetype": "text/x-python",
   "name": "python",
   "nbconvert_exporter": "python",
   "pygments_lexer": "ipython3",
   "version": "3.11.10"
  }
 },
 "nbformat": 4,
 "nbformat_minor": 1
}
