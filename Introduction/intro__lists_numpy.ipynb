{
 "cells": [
  {
   "cell_type": "code",
   "execution_count": 9,
   "id": "6ccebf39",
   "metadata": {},
   "outputs": [],
   "source": [
    "import os\n",
    "\n",
    "import numpy as np"
   ]
  },
  {
   "cell_type": "markdown",
   "id": "4ec12723",
   "metadata": {},
   "source": [
    "### Test"
   ]
  },
  {
   "cell_type": "code",
   "execution_count": 2,
   "id": "b1436acd",
   "metadata": {},
   "outputs": [
    {
     "name": "stdout",
     "output_type": "stream",
     "text": [
      "Current working directory: /home/imahn/Downloads\n"
     ]
    }
   ],
   "source": [
    "print(f\"Current working directory: {os.getcwd()}\")"
   ]
  },
  {
   "cell_type": "markdown",
   "id": "cdfaf92d",
   "metadata": {},
   "source": [
    "### Python lists"
   ]
  },
  {
   "cell_type": "code",
   "execution_count": 3,
   "id": "17d8601a",
   "metadata": {},
   "outputs": [
    {
     "name": "stdout",
     "output_type": "stream",
     "text": [
      "Example list: [1, 2, 3, 4]\n",
      "\n",
      "Another list: [4, 3, 2, 1]\n"
     ]
    }
   ],
   "source": [
    "l = [1, 2, 3, 4]\n",
    "m = [4, 3, 2, 1]\n",
    "print(f\"Example list: {l}\\n\\nAnother list: {m}\")"
   ]
  },
  {
   "cell_type": "code",
   "execution_count": 4,
   "id": "d657217a",
   "metadata": {},
   "outputs": [
    {
     "name": "stdout",
     "output_type": "stream",
     "text": [
      "[1, 2, 3, 4, 5]\n"
     ]
    }
   ],
   "source": [
    "l.append(5)\n",
    "print(l)"
   ]
  },
  {
   "cell_type": "code",
   "execution_count": 6,
   "id": "edeef5c6",
   "metadata": {},
   "outputs": [
    {
     "data": {
      "text/plain": [
       "5"
      ]
     },
     "execution_count": 6,
     "metadata": {},
     "output_type": "execute_result"
    }
   ],
   "source": [
    "l.pop(-1)"
   ]
  },
  {
   "cell_type": "code",
   "execution_count": 72,
   "id": "a1989e35",
   "metadata": {},
   "outputs": [
    {
     "name": "stdout",
     "output_type": "stream",
     "text": [
      "[1, 2, 3, 4]\n"
     ]
    }
   ],
   "source": [
    "print(l)"
   ]
  },
  {
   "cell_type": "code",
   "execution_count": 74,
   "id": "56ce4207",
   "metadata": {},
   "outputs": [
    {
     "name": "stdout",
     "output_type": "stream",
     "text": [
      "[1, 2, 3, 4, 5, 6, 7, 9]\n"
     ]
    }
   ],
   "source": [
    "l = [1, 2, 3, 4]\n",
    "m = [5, 6, 7, 9]\n",
    "n = l + m\n",
    "print(n)"
   ]
  },
  {
   "cell_type": "code",
   "execution_count": 87,
   "id": "505f8b77",
   "metadata": {},
   "outputs": [
    {
     "ename": "TypeError",
     "evalue": "can't multiply sequence by non-int of type 'list'",
     "output_type": "error",
     "traceback": [
      "\u001b[0;31m---------------------------------------------------------------------------\u001b[0m",
      "\u001b[0;31mTypeError\u001b[0m                                 Traceback (most recent call last)",
      "\u001b[0;32m/tmp/ipykernel_8493/2447491238.py\u001b[0m in \u001b[0;36m<module>\u001b[0;34m\u001b[0m\n\u001b[1;32m      1\u001b[0m \u001b[0ml\u001b[0m \u001b[0;34m=\u001b[0m \u001b[0;34m[\u001b[0m\u001b[0;36m1\u001b[0m\u001b[0;34m,\u001b[0m \u001b[0;36m2\u001b[0m\u001b[0;34m,\u001b[0m \u001b[0;36m3\u001b[0m\u001b[0;34m,\u001b[0m \u001b[0;36m4\u001b[0m\u001b[0;34m]\u001b[0m\u001b[0;34m\u001b[0m\u001b[0;34m\u001b[0m\u001b[0m\n\u001b[1;32m      2\u001b[0m \u001b[0mm\u001b[0m \u001b[0;34m=\u001b[0m \u001b[0;34m[\u001b[0m\u001b[0;36m5\u001b[0m\u001b[0;34m,\u001b[0m \u001b[0;36m6\u001b[0m\u001b[0;34m,\u001b[0m \u001b[0;36m7\u001b[0m\u001b[0;34m,\u001b[0m \u001b[0;36m8\u001b[0m\u001b[0;34m]\u001b[0m\u001b[0;34m\u001b[0m\u001b[0;34m\u001b[0m\u001b[0m\n\u001b[0;32m----> 3\u001b[0;31m \u001b[0mn\u001b[0m \u001b[0;34m=\u001b[0m \u001b[0ml\u001b[0m \u001b[0;34m*\u001b[0m \u001b[0mm\u001b[0m\u001b[0;34m\u001b[0m\u001b[0;34m\u001b[0m\u001b[0m\n\u001b[0m\u001b[1;32m      4\u001b[0m \u001b[0mprint\u001b[0m\u001b[0;34m(\u001b[0m\u001b[0mn\u001b[0m\u001b[0;34m)\u001b[0m\u001b[0;34m\u001b[0m\u001b[0;34m\u001b[0m\u001b[0m\n",
      "\u001b[0;31mTypeError\u001b[0m: can't multiply sequence by non-int of type 'list'"
     ]
    }
   ],
   "source": [
    "l = [1, 2, 3, 4]\n",
    "m = [5, 6, 7, 8]\n",
    "n = l * m\n",
    "print(n)"
   ]
  },
  {
   "cell_type": "code",
   "execution_count": 82,
   "id": "4b863f07",
   "metadata": {},
   "outputs": [
    {
     "name": "stdout",
     "output_type": "stream",
     "text": [
      "[1, 2, 3, 4, 1, 2, 3, 4]\n"
     ]
    }
   ],
   "source": [
    "l = [1, 2, 3, 4]\n",
    "m = 2 * l # `l + l`\n",
    "print(m)"
   ]
  },
  {
   "cell_type": "markdown",
   "id": "195a3f5e",
   "metadata": {},
   "source": [
    "### Numpy Arrays"
   ]
  },
  {
   "cell_type": "markdown",
   "id": "6d21709a",
   "metadata": {},
   "source": [
    "#### Array per se"
   ]
  },
  {
   "cell_type": "code",
   "execution_count": 66,
   "id": "0c7f50b8",
   "metadata": {},
   "outputs": [],
   "source": [
    "def print_array_info(*args) -> None:\n",
    "    for arg in args: \n",
    "        if type(arg) == np.ndarray: \n",
    "            print(f\"Array:\\n{arg}\\nNumber of axes: {arg.ndim}, shape: {arg.shape}, \"\n",
    "                  f\"dtype: {arg.dtype}\\n\\n\")\n",
    "        else: \n",
    "            raise ValueError(\n",
    "                f\"Wrong object type: {type(arg)}, expected type \"\n",
    "                \"`np.ndarray`\"\n",
    "            )"
   ]
  },
  {
   "cell_type": "code",
   "execution_count": 68,
   "id": "3913043f",
   "metadata": {},
   "outputs": [
    {
     "name": "stdout",
     "output_type": "stream",
     "text": [
      "Array:\n",
      "[1. 2. 3. 4.]\n",
      "Number of axes: 1, shape: (4,), dtype: float64\n",
      "\n",
      "\n"
     ]
    }
   ],
   "source": [
    "a = np.array([1., 2., 3., 4.]) # np.array([1, 2, 3, 4])\n",
    "print_array_info(a)"
   ]
  },
  {
   "cell_type": "code",
   "execution_count": 47,
   "id": "9a1401a6",
   "metadata": {},
   "outputs": [
    {
     "name": "stdout",
     "output_type": "stream",
     "text": [
      "Array:\n",
      "[1. 2. 3. 4.]\n",
      "Number of axes: 1, shape: (4,), dtype: float64\n"
     ]
    }
   ],
   "source": [
    "a2 = np.array([1., 2, 3, 4])\n",
    "print_array_info(a2)"
   ]
  },
  {
   "cell_type": "code",
   "execution_count": 22,
   "id": "7d105978",
   "metadata": {},
   "outputs": [
    {
     "name": "stdout",
     "output_type": "stream",
     "text": [
      "Array: [[1 2 3 4]], number of axes: 2, shape: (1, 4)\n"
     ]
    }
   ],
   "source": [
    "b = np.array([l])\n",
    "print_array_info(b)"
   ]
  },
  {
   "cell_type": "code",
   "execution_count": 23,
   "id": "4f64a381",
   "metadata": {},
   "outputs": [
    {
     "name": "stdout",
     "output_type": "stream",
     "text": [
      "Array: [[[1 2 3 4]]], number of axes: 3, shape: (1, 1, 4)\n"
     ]
    }
   ],
   "source": [
    "c = np.array([[l]])\n",
    "print_array_info(c)"
   ]
  },
  {
   "cell_type": "code",
   "execution_count": 29,
   "id": "f1282a21",
   "metadata": {},
   "outputs": [
    {
     "name": "stdout",
     "output_type": "stream",
     "text": [
      "Array:\n",
      "[[ 1  2  4  5]\n",
      " [ 6  7  8  9]\n",
      " [10 11 12 98]]\n",
      "Number of axes: 2, shape: (3, 4)\n"
     ]
    }
   ],
   "source": [
    "d = np.array([[1, 2, 4, 5], [6, 7, 8, 9], [10, 11, 12, 98]])\n",
    "print_array_info(d)"
   ]
  },
  {
   "cell_type": "markdown",
   "id": "7775ccd4",
   "metadata": {},
   "source": [
    "#### Array Manipulations"
   ]
  },
  {
   "cell_type": "code",
   "execution_count": 79,
   "id": "5aaa49bc",
   "metadata": {},
   "outputs": [
    {
     "name": "stdout",
     "output_type": "stream",
     "text": [
      "Array:\n",
      "[1 2 3 4]\n",
      "Number of axes: 1, shape: (4,), dtype: int64\n",
      "\n",
      "\n",
      "Array:\n",
      "[5 6 7 9]\n",
      "Number of axes: 1, shape: (4,), dtype: int64\n",
      "\n",
      "\n",
      "Array:\n",
      "[ 6  8 10 13]\n",
      "Number of axes: 1, shape: (4,), dtype: int64\n",
      "\n",
      "\n"
     ]
    }
   ],
   "source": [
    "# a = np.random.rand(2, 2)\n",
    "# b = np.random.rand(2, 2)\n",
    "a = np.array([1, 2, 3, 4])\n",
    "b = np.array([5, 6, 7, 9])\n",
    "print_array_info(a, b)\n",
    "\n",
    "c = a + b\n",
    "print_array_info(c)"
   ]
  },
  {
   "cell_type": "code",
   "execution_count": 86,
   "id": "d7265fe0",
   "metadata": {},
   "outputs": [
    {
     "name": "stdout",
     "output_type": "stream",
     "text": [
      "Array:\n",
      "[1 2 3 4]\n",
      "Number of axes: 1, shape: (4,), dtype: int64\n",
      "\n",
      "\n",
      "Array:\n",
      "[5 6 7 8]\n",
      "Number of axes: 1, shape: (4,), dtype: int64\n",
      "\n",
      "\n",
      "Array:\n",
      "[ 5 12 21 32]\n",
      "Number of axes: 1, shape: (4,), dtype: int64\n",
      "\n",
      "\n"
     ]
    }
   ],
   "source": [
    "c = np.array([1, 2, 3, 4])\n",
    "d = np.array([5, 6, 7, 8])\n",
    "e = c * d\n",
    "print_array_info(c, d, e)"
   ]
  },
  {
   "cell_type": "code",
   "execution_count": 90,
   "id": "0295e031",
   "metadata": {},
   "outputs": [
    {
     "name": "stdout",
     "output_type": "stream",
     "text": [
      "Array:\n",
      "[2 4 6 8]\n",
      "Number of axes: 1, shape: (4,), dtype: int64\n",
      "\n",
      "\n"
     ]
    }
   ],
   "source": [
    "c = np.array([1, 2, 3, 4])\n",
    "d = 2 * c # `np.array([2, 2, 2, 2]) * np.array([1, 2, 3, 4])`\n",
    "print_array_info(d)"
   ]
  },
  {
   "cell_type": "code",
   "execution_count": 93,
   "id": "d5101f07",
   "metadata": {},
   "outputs": [
    {
     "ename": "ValueError",
     "evalue": "operands could not be broadcast together with shapes (2,) (4,) ",
     "output_type": "error",
     "traceback": [
      "\u001b[0;31m---------------------------------------------------------------------------\u001b[0m",
      "\u001b[0;31mValueError\u001b[0m                                Traceback (most recent call last)",
      "\u001b[0;32m/tmp/ipykernel_8493/451128996.py\u001b[0m in \u001b[0;36m<module>\u001b[0;34m\u001b[0m\n\u001b[1;32m      2\u001b[0m \u001b[0mc\u001b[0m \u001b[0;34m=\u001b[0m \u001b[0mnp\u001b[0m\u001b[0;34m.\u001b[0m\u001b[0marray\u001b[0m\u001b[0;34m(\u001b[0m\u001b[0;34m[\u001b[0m\u001b[0;36m1\u001b[0m\u001b[0;34m,\u001b[0m \u001b[0;36m2\u001b[0m\u001b[0;34m,\u001b[0m \u001b[0;36m3\u001b[0m\u001b[0;34m,\u001b[0m \u001b[0;36m4\u001b[0m\u001b[0;34m]\u001b[0m\u001b[0;34m)\u001b[0m\u001b[0;34m\u001b[0m\u001b[0;34m\u001b[0m\u001b[0m\n\u001b[1;32m      3\u001b[0m \u001b[0md\u001b[0m \u001b[0;34m=\u001b[0m \u001b[0mnp\u001b[0m\u001b[0;34m.\u001b[0m\u001b[0marray\u001b[0m\u001b[0;34m(\u001b[0m\u001b[0;34m[\u001b[0m\u001b[0;36m2\u001b[0m\u001b[0;34m,\u001b[0m \u001b[0;36m3\u001b[0m\u001b[0;34m]\u001b[0m\u001b[0;34m)\u001b[0m\u001b[0;34m\u001b[0m\u001b[0;34m\u001b[0m\u001b[0m\n\u001b[0;32m----> 4\u001b[0;31m \u001b[0me\u001b[0m \u001b[0;34m=\u001b[0m \u001b[0md\u001b[0m \u001b[0;34m*\u001b[0m \u001b[0mc\u001b[0m\u001b[0;34m\u001b[0m\u001b[0;34m\u001b[0m\u001b[0m\n\u001b[0m\u001b[1;32m      5\u001b[0m \u001b[0mprint_array_info\u001b[0m\u001b[0;34m(\u001b[0m\u001b[0me\u001b[0m\u001b[0;34m)\u001b[0m\u001b[0;34m\u001b[0m\u001b[0;34m\u001b[0m\u001b[0m\n",
      "\u001b[0;31mValueError\u001b[0m: operands could not be broadcast together with shapes (2,) (4,) "
     ]
    }
   ],
   "source": [
    "# This will not work, expected\n",
    "c = np.array([1, 2, 3, 4])\n",
    "d = np.array([2, 3])\n",
    "e = d * c\n",
    "print_array_info(e)"
   ]
  },
  {
   "cell_type": "markdown",
   "id": "d28135d7",
   "metadata": {},
   "source": [
    "### Sets"
   ]
  },
  {
   "cell_type": "code",
   "execution_count": 12,
   "id": "0d3e68ad",
   "metadata": {},
   "outputs": [
    {
     "name": "stdout",
     "output_type": "stream",
     "text": [
      "Example set: {1, 2, 3, 4}\n",
      "\n",
      "Another set: {1, 2, 3, 4}\n"
     ]
    }
   ],
   "source": [
    "s = set(l)\n",
    "t = set(m)\n",
    "print(f\"Example set: {s}\\n\\nAnother set: {t}\")"
   ]
  },
  {
   "cell_type": "code",
   "execution_count": null,
   "id": "f79dc2ad",
   "metadata": {},
   "outputs": [],
   "source": []
  }
 ],
 "metadata": {
  "kernelspec": {
   "display_name": "Python 3",
   "language": "python",
   "name": "python3"
  },
  "language_info": {
   "codemirror_mode": {
    "name": "ipython",
    "version": 3
   },
   "file_extension": ".py",
   "mimetype": "text/x-python",
   "name": "python",
   "nbconvert_exporter": "python",
   "pygments_lexer": "ipython3",
   "version": "3.9.13"
  }
 },
 "nbformat": 4,
 "nbformat_minor": 5
}
