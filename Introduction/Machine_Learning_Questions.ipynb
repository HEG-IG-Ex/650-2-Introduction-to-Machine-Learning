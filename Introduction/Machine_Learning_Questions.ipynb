{
 "cells": [
  {
   "cell_type": "markdown",
   "id": "65e9812b",
   "metadata": {},
   "source": [
    "# Introduction to Machine Learning - Student Questions"
   ]
  },
  {
   "cell_type": "markdown",
   "id": "e2396348",
   "metadata": {},
   "source": [
    "### Question 1\n",
    "What is the definition of Artificial Intelligence and how does it relate to Machine Learning?"
   ]
  },
  {
   "cell_type": "markdown",
   "id": "910fff6c",
   "metadata": {},
   "source": [
    "### Question 2\n",
    "Who was Alan Turing and what was his contribution to the field of Machine Learning?"
   ]
  },
  {
   "cell_type": "markdown",
   "id": "d10956d1",
   "metadata": {},
   "source": [
    "### Question 3\n",
    "Explain the concept of the Turing Test and its significance."
   ]
  },
  {
   "cell_type": "markdown",
   "id": "57d17f54",
   "metadata": {},
   "source": [
    "### Question 4\n",
    "Describe the concept of 'bounded rationality' in the context of AI systems."
   ]
  },
  {
   "cell_type": "markdown",
   "id": "c8e1a6b6",
   "metadata": {},
   "source": [
    "### Question 5\n",
    "What are expert systems and how do they differ from other AI systems?"
   ]
  },
  {
   "cell_type": "markdown",
   "id": "d9b5a932",
   "metadata": {},
   "source": [
    "### Question 6\n",
    "Discuss the importance of learning from experience in Machine Learning."
   ]
  },
  {
   "cell_type": "markdown",
   "id": "e069f8fd",
   "metadata": {},
   "source": [
    "### Question 7\n",
    "What are the issues associated with the Turing Test in measuring AI intelligence?"
   ]
  },
  {
   "cell_type": "markdown",
   "id": "a30dbd16",
   "metadata": {},
   "source": [
    "### Question 8\n",
    "What are some methods used for measuring the intelligence of AI systems?"
   ]
  },
  {
   "cell_type": "markdown",
   "id": "924b52db",
   "metadata": {},
   "source": [
    "### Question 9\n",
    "Explain the basic idea of image classification in Machine Learning."
   ]
  },
  {
   "cell_type": "markdown",
   "id": "ecedd725",
   "metadata": {},
   "source": [
    "### Question 10\n",
    "What is meant by 'success rate' in the context of object detection in Machine Learning?"
   ]
  }
 ],
 "metadata": {},
 "nbformat": 4,
 "nbformat_minor": 5
}
