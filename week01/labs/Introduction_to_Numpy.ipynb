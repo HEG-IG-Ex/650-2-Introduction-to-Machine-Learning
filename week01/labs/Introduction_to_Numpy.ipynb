{
 "nbformat": 4,
 "nbformat_minor": 0,
 "metadata": {
  "colab": {
   "provenance": [],
   "collapsed_sections": [
    "e5Pg5_3rdlhJ",
    "F1J2nzxHfiZB",
    "Rfv495AWeFOO",
    "o--bIFDleMhR"
   ]
  },
  "kernelspec": {
   "name": "python3",
   "display_name": "Python 3 (ipykernel)",
   "language": "python"
  },
  "language_info": {
   "name": "python"
  }
 },
 "cells": [
  {
   "cell_type": "markdown",
   "source": [
    "# Introduction to NumPy\n",
    "\n",
    "NumPy is a fundamental package for scientific computing in Python.\n",
    "It allows you to work efficiently with multidimensional arrays (ndarray) and provides a wide variety of mathematical functions to operate on these arrays."
   ],
   "metadata": {
    "id": "KMIORJlmQ3Uk"
   }
  },
  {
   "cell_type": "markdown",
   "source": [
    "# Why use NumPy?\n",
    "\n",
    "Python lists are excellent, general-purpose containers. They can be “heterogeneous”, meaning that they can contain elements of a variety of types, and they are quite fast when used to perform individual operations on a handful of elements.\n",
    "\n",
    "Depending on the characteristics of the data and the types of operations that need to be performed, other containers may be more appropriate; by exploiting these characteristics, we can improve speed, reduce memory consumption, and offer a high-level syntax for performing a variety of common processing tasks. NumPy shines when there are large quantities of “homogeneous” (same-type) data to be processed on the CPU."
   ],
   "metadata": {
    "id": "NSEEgIkVSbog"
   }
  },
  {
   "cell_type": "markdown",
   "source": [
    "# What is an “array”?\n",
    "\n",
    "In computer programming, an array is a structure for storing and retrieving data. We often talk about an array as if it were a grid in space, with each cell storing one element of the data. For instance, if each element of the data were a number, we might visualize a “one-dimensional” array like a list:\n",
    "\n",
    "1, 5, 2, 0\n",
    "\n",
    "A two-dimensional array would be like a table:\n",
    "\n",
    "1, 5, 2, 0<br>\n",
    "8, 3, 6, 1<br>\n",
    "1, 7, 2, 9<br>\n",
    "\n",
    "A three-dimensional array would be like a set of tables, perhaps stacked as though they were printed on separate pages. In NumPy, this idea is generalized to an arbitrary number of dimensions, and so the fundamental array class is called `ndarray`: it represents an “N-dimensional array”.\n",
    "\n",
    "Most NumPy arrays have some restrictions. For instance:\n",
    "\n",
    "    All elements of the array must be of the same type of data.\n",
    "\n",
    "    Once created, the total size of the array can’t change.\n",
    "\n",
    "    The shape must be “rectangular”, not “jagged”; e.g., each row of a two-dimensional array must have the same number of columns.\n",
    "\n",
    "When these conditions are met, NumPy exploits these characteristics to make the array faster, more memory efficient, and more convenient to use than less restrictive data structures.\n",
    "\n",
    "For the remainder of this document, we will use the word “array” to refer to an instance of `ndarray`."
   ],
   "metadata": {
    "id": "I4z1xNjhSgOc"
   }
  },
  {
   "cell_type": "code",
   "source": [
    "from panel.pane.vtk.synchronizable_serializer import linspace\n",
    "!pip install numpy"
   ],
   "metadata": {
    "id": "4dUmveu45_6r",
    "ExecuteTime": {
     "end_time": "2024-09-27T06:34:04.809274Z",
     "start_time": "2024-09-27T06:34:00.440956Z"
    }
   },
   "outputs": [
    {
     "name": "stdout",
     "output_type": "stream",
     "text": [
      "Requirement already satisfied: numpy in c:\\users\\huniv\\anaconda3\\lib\\site-packages (1.26.4)\n"
     ]
    }
   ],
   "execution_count": 4
  },
  {
   "cell_type": "markdown",
   "source": [
    "# Array fundamentals\n",
    "\n",
    "NumPy is a fundamental package for scientific computing in Python.\n",
    "It allows you to work efficiently with multidimensional arrays (ndarray)\n",
    "and provides a wide variety of mathematical functions to operate on these arrays.\n",
    "\n",
    "### Importing NumPy\n",
    "`\n",
    "import numpy as np\n",
    "`"
   ],
   "metadata": {
    "id": "e5Pg5_3rdlhJ"
   }
  },
  {
   "cell_type": "code",
   "source": [
    "# **Exercise 1**: Import the NumPy library using the alias `np`.\n",
    "# (Write your code below)\n",
    "import numpy as np\n",
    "\n",
    "# Check:\n",
    "assert 'np' in locals(), \"NumPy has not been imported correctly with the alias 'np'.\"\n"
   ],
   "metadata": {
    "id": "g0shFOb4dfcR",
    "ExecuteTime": {
     "end_time": "2024-09-27T06:34:05.016072Z",
     "start_time": "2024-09-27T06:34:04.901458Z"
    }
   },
   "outputs": [],
   "execution_count": 5
  },
  {
   "cell_type": "markdown",
   "source": [
    "## Creating Arrays"
   ],
   "metadata": {
    "id": "w71_ax6Bdv_z"
   }
  },
  {
   "cell_type": "markdown",
   "source": [
    "## Creating Arrays\n",
    "A NumPy array is called an ndarray. You can create one from a Python list.\n",
    "\n",
    "```\n",
    "# Example:\n",
    "array = np.array([1, 2, 3, 4])\n",
    "print(array)\n",
    "```"
   ],
   "metadata": {
    "id": "F1J2nzxHfiZB"
   }
  },
  {
   "cell_type": "code",
   "source": [
    "# **Exercise 2**: Create a 1D NumPy array named array_1d containing the numbers 5, 6, 7, and 8.\n",
    "# (Write your code below)\n",
    "array_1d = np.array([5,6,7,8])\n",
    "\n",
    "# Check:\n",
    "assert array_1d[0] == 5, \"The 1D array is incorrect.\"\n",
    "assert array_1d[1] == 6, \"The 1D array is incorrect.\"\n",
    "assert array_1d[2] == 7, \"The 1D array is incorrect.\"\n",
    "assert array_1d[3] == 8, \"The 1D array is incorrect.\""
   ],
   "metadata": {
    "id": "WGb_swHRdqI0",
    "ExecuteTime": {
     "end_time": "2024-09-27T06:35:53.617937Z",
     "start_time": "2024-09-27T06:35:53.613012Z"
    }
   },
   "outputs": [],
   "execution_count": 7
  },
  {
   "cell_type": "markdown",
   "source": [
    "## np.zeros\n",
    "np.zeros creates an array filled with zeros.\n",
    "\n",
    "```\n",
    "# Example:\n",
    "zeros_array = np.zeros((2, 3))\n",
    "print(zeros_array)\n",
    "```"
   ],
   "metadata": {
    "id": "lbLCfLeuftQs"
   }
  },
  {
   "cell_type": "code",
   "source": [
    "# **Exercise 1**: Create a 3x4 array named zeros_3x4 of zeros.\n",
    "# (Write your code below)\n",
    "zeros_3x4 = np.zeros((3, 4))\n",
    "\n",
    "# Check:\n",
    "assert zeros_3x4.shape == (3, 4) and np.all(zeros_3x4 == 0), \"The zeros array is incorrect.\"\n"
   ],
   "metadata": {
    "id": "zVXrqv3OdsQP",
    "ExecuteTime": {
     "end_time": "2024-09-27T06:38:06.512605Z",
     "start_time": "2024-09-27T06:38:06.506555Z"
    }
   },
   "outputs": [
    {
     "name": "stdout",
     "output_type": "stream",
     "text": [
      "[[0. 0. 0. 0.]\n",
      " [0. 0. 0. 0.]\n",
      " [0. 0. 0. 0.]]\n"
     ]
    }
   ],
   "execution_count": 12
  },
  {
   "cell_type": "markdown",
   "source": [
    "## np.ones\n",
    "np.ones creates an array filled with ones.\n",
    "\n",
    "```\n",
    "# Example:\n",
    "ones_array = np.ones((2, 3))\n",
    "print(ones_array)\n",
    "```"
   ],
   "metadata": {
    "id": "mhBLAJVzf23q"
   }
  },
  {
   "cell_type": "code",
   "source": [
    "# **Exercise 2**: Create a 5x2 array of ones named ones_5x2.\n",
    "# (Write your code below)\n",
    "ones_5x2 = np.ones((5,2))\n",
    "\n",
    "# Check:\n",
    "assert ones_5x2.shape == (5, 2) and np.all(ones_5x2 == 1), \"The ones array is incorrect.\"\n"
   ],
   "metadata": {
    "id": "SSJTWF8Hd7wW",
    "ExecuteTime": {
     "end_time": "2024-09-27T06:36:56.505399Z",
     "start_time": "2024-09-27T06:36:56.499999Z"
    }
   },
   "outputs": [],
   "execution_count": 10
  },
  {
   "cell_type": "markdown",
   "source": [
    "## np.empty\n",
    "np.empty creates an array without initializing its entries.\n",
    "The values are random and depend on the memory state.\n",
    "\n",
    "```\n",
    "# Example:\n",
    "empty_array = np.empty((2, 3))\n",
    "print(empty_array)\n",
    "```"
   ],
   "metadata": {
    "id": "_bU4CCbmrxxq"
   }
  },
  {
   "cell_type": "code",
   "source": [
    "# **Exercise 3**: Create a 4x3 array using np.empty named empty_4x3.\n",
    "# (Write your code below)\n",
    "empty_4x3 = np.empty((4, 3))\n",
    "\n",
    "# Check:\n",
    "assert empty_4x3.shape == (4, 3), \"The empty array shape is incorrect.\"\n"
   ],
   "metadata": {
    "id": "AFlz7ngsd9VC",
    "ExecuteTime": {
     "end_time": "2024-09-27T06:38:25.654412Z",
     "start_time": "2024-09-27T06:38:25.647224Z"
    }
   },
   "outputs": [],
   "execution_count": 13
  },
  {
   "cell_type": "markdown",
   "source": [
    "## np.arange\n",
    "np.arange generates an array with a range of values, similar to Python's built-in range.\n",
    "\n",
    "```\n",
    "# Example:\n",
    "range_array = np.arange(0, 10, 2)\n",
    "print(range_array)\n",
    "```"
   ],
   "metadata": {
    "id": "QN0ht6tyr9eM"
   }
  },
  {
   "cell_type": "code",
   "source": [
    "# **Exercise 4**: Create an array named arrange_array starting from 5, ending at 20 (exclusive), with a step size of 3.\n",
    "# (Write your code below)\n",
    "arange_array =  np.arange(5, 20, 3)\n",
    "\n",
    "# Check:\n",
    "assert np.array_equal(arange_array, np.array([5, 8, 11, 14, 17])), \"The np.arange array is incorrect.\"\n"
   ],
   "metadata": {
    "id": "AV3R6mkdd93U",
    "ExecuteTime": {
     "end_time": "2024-09-27T06:39:25.922932Z",
     "start_time": "2024-09-27T06:39:25.916057Z"
    }
   },
   "outputs": [],
   "execution_count": 14
  },
  {
   "cell_type": "markdown",
   "source": [
    "## np.linspace\n",
    "np.linspace generates an array of evenly spaced values between a specified start and end.\n",
    "\n",
    "[np.linspace](https://numpy.org/doc/stable/reference/generated/numpy.linspace.html)\n",
    "\n",
    "```\n",
    "# Example:\n",
    "linspace_array = np.linspace(0, 1, 5)\n",
    "print(linspace_array)\n",
    "```"
   ],
   "metadata": {
    "id": "wL3nVx_LsGLc"
   }
  },
  {
   "cell_type": "code",
   "source": [
    "# **Exercise 5**: Create an array named linspace_array of 6 evenly spaced values between 2 and 3 (inclusive).\n",
    "# (Write your code below)\n",
    "linspace_array = np.linspace(2, 3, 6)\n",
    "\n",
    "# Check:\n",
    "assert np.allclose(linspace_array, np.array([2., 2.2, 2.4, 2.6, 2.8, 3.])), \"The np.linspace array is incorrect.\"\n"
   ],
   "metadata": {
    "id": "lwLuReZQd_a7",
    "ExecuteTime": {
     "end_time": "2024-09-27T06:41:27.444419Z",
     "start_time": "2024-09-27T06:41:27.437164Z"
    }
   },
   "outputs": [],
   "execution_count": 15
  },
  {
   "cell_type": "markdown",
   "source": [
    "## Array Attributes"
   ],
   "metadata": {
    "id": "Rfv495AWeFOO"
   }
  },
  {
   "cell_type": "markdown",
   "source": [
    "## Array Attributes\n",
    "NumPy arrays have attributes like shape, size, and ndim to get information about the array.\n",
    "\n",
    "[numpy.ndarray.shape](https://numpy.org/doc/stable/reference/generated/numpy.ndarray.shape.html)<br/>\n",
    "[numpy.ndarray.size](https://numpy.org/doc/stable/reference/generated/numpy.ndarray.size.html)\n",
    "\n",
    "```\n",
    "# Example:\n",
    "array = np.array([[1, 2], [3, 4]])\n",
    "print(\"Shape:\", array.shape)\n",
    "print(\"Size:\", array.size)\n",
    "print(\"Number of dimensions:\", array.ndim)\n",
    "```"
   ],
   "metadata": {
    "id": "vz4mAtSD7bGw"
   }
  },
  {
   "cell_type": "code",
   "source": [
    "# **Exercise 3**: Create a 2D array named array_2d of shape (3, 3) and check its shape, size, and dimensions.\n",
    "\n",
    "# (Write your code below)\n",
    "array_2d = np.array([[1, 2, 3], [3, 4, 5], [3, 4, 5]])\n",
    "print(\"Shape:\", array_2d.shape)\n",
    "print(\"Size:\", array_2d.size)\n",
    "print(\"Number of dimensions:\", array_2d.ndim)\n",
    "\n",
    "# Check:\n",
    "assert array_2d.shape == (3, 3), \"The shape is incorrect.\"\n",
    "assert array_2d.size == 9, \"The size is incorrect.\"\n",
    "assert array_2d.ndim == 2, \"The number of dimensions is incorrect.\""
   ],
   "metadata": {
    "id": "3lZJIMW_eHJg",
    "ExecuteTime": {
     "end_time": "2024-09-27T06:45:56.613406Z",
     "start_time": "2024-09-27T06:45:56.605486Z"
    }
   },
   "outputs": [
    {
     "name": "stdout",
     "output_type": "stream",
     "text": [
      "Shape: (3, 3)\n",
      "Size: 9\n",
      "Number of dimensions: 2\n"
     ]
    }
   ],
   "execution_count": 22
  },
  {
   "cell_type": "markdown",
   "source": [
    "## Array Operations"
   ],
   "metadata": {
    "id": "o--bIFDleMhR"
   }
  },
  {
   "cell_type": "markdown",
   "source": [
    "\n",
    "## Array Operations\n",
    "You can perform element-wise operations like addition, multiplication, and more on NumPy arrays.\n",
    "\n",
    "[numpy.add](https://numpy.org/doc/stable/reference/generated/numpy.add.html)<br/>\n",
    "[numpy.prod](https://numpy.org/doc/stable/reference/generated/numpy.prod.html)\n",
    "\n",
    "```\n",
    "# Example:\n",
    "a = np.array([1, 2, 3])\n",
    "b = np.array([4, 5, 6])\n",
    "print(\"Sum:\", a + b)\n",
    "print(\"Product:\", a * b)\n",
    "```"
   ],
   "metadata": {
    "id": "EhJjH-KZ7viM"
   }
  },
  {
   "cell_type": "code",
   "source": [
    "# **Exercise 5**: Create two arrays of length 5 and perform element-wise addition and multiplication.\n",
    "# Name our array sum_array and array_prod\n",
    "# (Write your code below)\n",
    "array_a = np.array([1, 2, 3])\n",
    "array_b = np.array([4, 5, 6])\n",
    "\n",
    "array_sum = array_a + array_b\n",
    "array_prod = array_a * array_b\n",
    "\n",
    "print(array_sum)\n",
    "print(array_prod)"
   ],
   "metadata": {
    "id": "hVgyveOaeORH",
    "ExecuteTime": {
     "end_time": "2024-09-27T07:04:41.420824Z",
     "start_time": "2024-09-27T07:04:41.415201Z"
    }
   },
   "outputs": [
    {
     "name": "stdout",
     "output_type": "stream",
     "text": [
      "[5 7 9]\n",
      "[ 4 10 18]\n"
     ]
    }
   ],
   "execution_count": 24
  },
  {
   "cell_type": "markdown",
   "source": [
    "# Sorting and Concatenate"
   ],
   "metadata": {
    "id": "7eZngebweZlc"
   }
  },
  {
   "cell_type": "markdown",
   "source": [
    "## np.sort\n",
    "np.sort sorts the elements of an array in ascending order by default.\n",
    "You can also sort along specific axes for multidimensional arrays.\n",
    "\n",
    "[np.sort](https://numpy.org/doc/stable/reference/generated/numpy.sort.html)\n",
    "\n",
    "```\n",
    "# Example:\n",
    "unsorted_array = np.array([3, 1, 2])\n",
    "sorted_array = np.sort(unsorted_array)\n",
    "print(\"Sorted array:\", sorted_array)\n",
    "```"
   ],
   "metadata": {
    "id": "jiVRCfj5sWbC"
   }
  },
  {
   "cell_type": "code",
   "source": [
    "# **Exercise 1**: Create an array named sorted_array with the values [12, 5, 7, 3, 9] and sort it in ascending order.\n",
    "# (Write your code below)\n",
    "sorted_array = np.sort(np.array([12, 5, 7, 3, 9]))\n",
    "print(sorted_array)\n",
    "# Check:\n",
    "assert np.array_equal(sorted_array, np.array([3, 5, 7, 9, 12])), \"The sorted array is incorrect.\"\n"
   ],
   "metadata": {
    "id": "Zk2qQ8iZebyP",
    "ExecuteTime": {
     "end_time": "2024-09-27T07:07:58.764787Z",
     "start_time": "2024-09-27T07:07:58.757693Z"
    }
   },
   "outputs": [
    {
     "name": "stdout",
     "output_type": "stream",
     "text": [
      "[ 3  5  7  9 12]\n"
     ]
    }
   ],
   "execution_count": 28
  },
  {
   "cell_type": "markdown",
   "source": [
    "## Sorting along axes (Advanced)\n",
    "You can sort a 2D array along a specific axis using np.sort.\n",
    "Axis 0 sorts the columns, and axis 1 sorts the rows.\n",
    "\n",
    "```\n",
    "# Example:\n",
    "array_2d = np.array([[3, 2, 1], [6, 5, 4]])\n",
    "sorted_rows = np.sort(array_2d, axis=1)  # Sorts each row\n",
    "print(\"Rows sorted:\", sorted_rows)\n",
    "```"
   ],
   "metadata": {
    "id": "oS2qkX9usfxm"
   }
  },
  {
   "cell_type": "code",
   "source": [
    "# **Exercise 2**: Create a 3x3 array and sort its rows and columns separately.\n",
    "# (Write your code below)\n",
    "array_3x3 = np.array([[3,2,1],[6,5,4], [7,9,8]])\n",
    "print(\"Shape:\", array_3x3.shape)\n",
    "print(\"Size:\", array_3x3.size)\n",
    "print(\"Number of dimensions:\", array_3x3.ndim)\n",
    "\n",
    "sorted_rows = np.sort(array_3x3, axis=1)  # Sorts each row\n",
    "print(\"Rows sorted:\", sorted_rows)"
   ],
   "metadata": {
    "id": "3l7hWjo0edTF",
    "ExecuteTime": {
     "end_time": "2024-09-27T07:20:24.893296Z",
     "start_time": "2024-09-27T07:20:24.886882Z"
    }
   },
   "outputs": [
    {
     "name": "stdout",
     "output_type": "stream",
     "text": [
      "Shape: (3, 3)\n",
      "Size: 9\n",
      "Number of dimensions: 2\n",
      "Rows sorted: [[1 2 3]\n",
      " [4 5 6]\n",
      " [7 8 9]]\n"
     ]
    }
   ],
   "execution_count": 34
  },
  {
   "cell_type": "markdown",
   "source": [
    "## np.concatenate\n",
    "np.concatenate is used to join two or more arrays along a specified axis.\n",
    "\n",
    "```\n",
    "# Example:\n",
    "array_a = np.array([1, 2, 3])\n",
    "array_b = np.array([4, 5, 6])\n",
    "concatenated = np.concatenate((array_a, array_b))\n",
    "print(\"Concatenated array:\", concatenated)\n",
    "```"
   ],
   "metadata": {
    "id": "Q-K4jEvmsoYM"
   }
  },
  {
   "cell_type": "code",
   "source": [
    "# **Exercise 3**: Concatenate two 1D arrays [10, 20, 30] and [40, 50, 60] (name the result concatenated_array).\n",
    "# (Write your code below)\n",
    "array_a = np.array([10, 20, 30])\n",
    "array_b = np.array([40, 50, 60])\n",
    "concatenated_array = np.concatenate((array_a, array_b))\n",
    "\n",
    "# Check:\n",
    "assert np.array_equal(concatenated_array, np.array([10, 20, 30, 40, 50, 60])), \"The concatenated array is incorrect.\"\n"
   ],
   "metadata": {
    "id": "h5dMat4HeftJ",
    "ExecuteTime": {
     "end_time": "2024-09-27T07:22:13.126931Z",
     "start_time": "2024-09-27T07:22:13.119716Z"
    }
   },
   "outputs": [],
   "execution_count": 37
  },
  {
   "cell_type": "markdown",
   "source": [
    "## Concatenating 2D arrays\n",
    "You can concatenate along different axes in multidimensional arrays.\n",
    "Axis 0 concatenates along rows, and axis 1 concatenates along columns.\n",
    "\n",
    "```\n",
    "# Example:\n",
    "array_c = np.array([[1, 2], [3, 4]])\n",
    "array_d = np.array([[5, 6], [7, 8]])\n",
    "concat_axis_0 = np.concatenate((array_c, array_d), axis=0)  # Concatenate along rows\n",
    "concat_axis_1 = np.concatenate((array_c, array_d), axis=1)  # Concatenate along columns\n",
    "print(\"Concatenated along axis 0:\\n\", concat_axis_0)\n",
    "print(\"Concatenated along axis 1:\\n\", concat_axis_1)\n",
    "```"
   ],
   "metadata": {
    "id": "sHh6ED-lsu6w"
   }
  },
  {
   "cell_type": "code",
   "source": [
    "# **Exercise 4**: Create two 2D arrays of shape (2, 3) and concatenate them:\n",
    "# - Along axis 0 (along rows)\n",
    "# - Along axis 1 (along columns)\n",
    "# (Write your code below)\n",
    "\n",
    "array_c = np.array([[1, 2, 3], [3, 4, 3]])\n",
    "array_d = np.array([[5, 6, 7], [7, 8, 9]])\n",
    "\n",
    "concat_axis_0 = np.concatenate((array_c, array_d), axis=0)  # Concatenate along rows\n",
    "concat_axis_1 = np.concatenate((array_c, array_d), axis=1)  # Concatenate along columns\n",
    "print(\"Concatenated along axis 0:\\n\", concat_axis_0)\n",
    "print(\"Concatenated along axis 1:\\n\", concat_axis_1)\n"
   ],
   "metadata": {
    "id": "skuhyxVMejZC",
    "ExecuteTime": {
     "end_time": "2024-09-27T07:28:59.486352Z",
     "start_time": "2024-09-27T07:28:59.478845Z"
    }
   },
   "outputs": [
    {
     "name": "stdout",
     "output_type": "stream",
     "text": [
      "Concatenated along axis 0:\n",
      " [[1 2 3]\n",
      " [3 4 3]\n",
      " [5 6 7]\n",
      " [7 8 9]]\n",
      "Concatenated along axis 1:\n",
      " [[1 2 3 5 6 7]\n",
      " [3 4 3 7 8 9]]\n"
     ]
    }
   ],
   "execution_count": 39
  },
  {
   "cell_type": "markdown",
   "source": [
    "## np.hstack\n",
    "np.hstack is used to horizontally stack arrays (along the second axis).\n",
    "It concatenates arrays along the columns.\n",
    "\n",
    "```\n",
    "# Example:\n",
    "array_a = np.array([1, 2, 3])\n",
    "array_b = np.array([4, 5, 6])\n",
    "hstacked = np.hstack((array_a, array_b))\n",
    "print(\"Horizontally stacked array:\", hstacked)\n",
    "```"
   ],
   "metadata": {
    "id": "SdmGpqRJs8o1"
   }
  },
  {
   "cell_type": "code",
   "source": [
    "# **Exercise 1**: Create two 1D arrays [10, 20, 30] and [40, 50, 60], and horizontally stack them using np.hstack.\n",
    "# name the output hstacked_array\n",
    "# (Write your code below)\n",
    "a = np.array([10,20,30])\n",
    "b = np.array([40,50,60])\n",
    "\n",
    "hstacked_array = np.hstack((a, b))\n",
    "print(hstacked_array)\n",
    "\n",
    "# Check:\n",
    "assert np.array_equal(hstacked_array, np.array([10, 20, 30, 40, 50, 60])), \"The horizontally stacked array is incorrect.\"\n"
   ],
   "metadata": {
    "id": "BuigBIMnfB0P",
    "ExecuteTime": {
     "end_time": "2024-09-27T07:37:57.702711Z",
     "start_time": "2024-09-27T07:37:57.696435Z"
    }
   },
   "outputs": [
    {
     "name": "stdout",
     "output_type": "stream",
     "text": [
      "[10 20 30 40 50 60]\n"
     ]
    }
   ],
   "execution_count": 44
  },
  {
   "cell_type": "markdown",
   "source": [
    "## np.vstack\n",
    "np.vstack is used to vertically stack arrays (along the first axis).\n",
    "It concatenates arrays along the rows.\n",
    "\n",
    "```\n",
    "# Example:\n",
    "array_c = np.array([[1, 2], [3, 4]])\n",
    "array_d = np.array([[5, 6], [7, 8]])\n",
    "vstacked = np.vstack((array_c, array_d))\n",
    "print(\"Vertically stacked array:\\n\", vstacked)\n",
    "```"
   ],
   "metadata": {
    "id": "QgyaT30FtE42"
   }
  },
  {
   "cell_type": "code",
   "source": [
    "# **Exercise 2**: Create two 2D arrays of shape (2, 2) with values [[10, 20], [30, 40]] and [[50, 60], [70, 80]].\n",
    "# Vertically stack them using np.vstack.\n",
    "# (Write your code below)\n",
    "a = np.array([[10, 20], [30, 40]])\n",
    "b = np.array([[50, 60], [70, 80]])\n",
    "\n",
    "vstacked_array = np.vstack((a, b))\n",
    "print(vstacked_array)\n",
    "\n",
    "# Check:\n",
    "assert vstacked_array.shape == (4, 2), \"The vertically stacked array shape is incorrect.\"\n",
    "assert np.array_equal(vstacked_array, np.array([[10, 20], [30, 40], [50, 60], [70, 80]])), \"The vertically stacked array is incorrect.\"\n"
   ],
   "metadata": {
    "id": "3hJ78WRVfDtv",
    "ExecuteTime": {
     "end_time": "2024-09-27T07:37:59.921106Z",
     "start_time": "2024-09-27T07:37:59.913092Z"
    }
   },
   "outputs": [
    {
     "name": "stdout",
     "output_type": "stream",
     "text": [
      "[[10 20]\n",
      " [30 40]\n",
      " [50 60]\n",
      " [70 80]]\n"
     ]
    }
   ],
   "execution_count": 45
  },
  {
   "cell_type": "markdown",
   "source": [
    "## Stacking 1D arrays into 2D arrays\n",
    "You can use np.vstack or np.hstack to stack 1D arrays into 2D arrays.\n",
    "\n",
    "```\n",
    "# Example:\n",
    "array_e = np.array([1, 2, 3])\n",
    "array_f = np.array([4, 5, 6])\n",
    "vstacked_1d = np.vstack((array_e, array_f))\n",
    "print(\"1D arrays stacked vertically into 2D:\\n\", vstacked_1d)\n",
    "```"
   ],
   "metadata": {
    "id": "BWUlqFo34-3-"
   }
  },
  {
   "cell_type": "code",
   "source": [
    "# **Exercise 3**: Create two 1D arrays [7, 8, 9] and [10, 11, 12], and stack them vertically into a 2x3 array using np.vstack.\n",
    "# (Write your code below)\n",
    "## Stacking 1D arrays into 2D arrays\n",
    "array_e = np.array([7, 8, 9])\n",
    "array_f = np.array([10, 11, 12])\n",
    "vstacked_1d_arrays = np.vstack((array_e, array_f))\n",
    "print(\"1D arrays stacked vertically into 2D:\\n\", vstacked_1d_arrays)\n",
    "\n",
    "\n",
    "# Check:\n",
    "assert np.array_equal(vstacked_1d_arrays, np.array([[7, 8, 9], [10, 11, 12]])), \"The stacked 2x3 array is incorrect.\"\n"
   ],
   "metadata": {
    "id": "vvzmoV1wfFgJ",
    "ExecuteTime": {
     "end_time": "2024-09-27T07:40:14.689180Z",
     "start_time": "2024-09-27T07:40:14.683005Z"
    }
   },
   "outputs": [
    {
     "name": "stdout",
     "output_type": "stream",
     "text": [
      "1D arrays stacked vertically into 2D:\n",
      " [[ 7  8  9]\n",
      " [10 11 12]]\n"
     ]
    }
   ],
   "execution_count": 46
  },
  {
   "cell_type": "markdown",
   "source": [
    "## Combining hstack and vstack\n",
    "You can use both functions together to stack arrays in different directions.\n",
    "\n",
    "```\n",
    "# Example:\n",
    "array_g = np.array([1, 2, 3])\n",
    "array_h = np.array([4, 5, 6])\n",
    "hstacked = np.hstack((array_g, array_h))  # Horizontal stacking\n",
    "vstacked = np.vstack((hstacked, hstacked))  # Vertical stacking of the result\n",
    "print(\"Combined stacking:\\n\", vstacked)\n",
    "```"
   ],
   "metadata": {
    "id": "o3H8kfCJ5HRu"
   }
  },
  {
   "cell_type": "code",
   "source": [
    "# **Exercise 4**: Horizontally stack two 1D arrays [100, 200, 300] and [400, 500, 600],\n",
    "# then vertically stack the result with itself.\n",
    "# (Write your code below)\n",
    "array_g = np.array([100, 200, 300])\n",
    "array_h = np.array([400, 500, 600])\n",
    "hstacked = np.hstack((array_g, array_h))  # Horizontal stacking\n",
    "combined_stack = np.vstack((hstacked, hstacked))  # Vertical stacking of the result\n",
    "print(\"Combined stacking:\\n\", combined_stack)\n",
    "\n",
    "# Check:\n",
    "assert combined_stack.shape == (2, 6), \"The final stacked array shape is incorrect.\"\n",
    "assert np.array_equal(combined_stack, np.array([[100, 200, 300, 400, 500, 600], [100, 200, 300, 400, 500, 600]])), \"The combined stacking is incorrect.\""
   ],
   "metadata": {
    "id": "I67GWFJMfHFy",
    "ExecuteTime": {
     "end_time": "2024-09-27T07:42:16.720472Z",
     "start_time": "2024-09-27T07:42:16.713804Z"
    }
   },
   "outputs": [
    {
     "name": "stdout",
     "output_type": "stream",
     "text": [
      "Combined stacking:\n",
      " [[100 200 300 400 500 600]\n",
      " [100 200 300 400 500 600]]\n"
     ]
    }
   ],
   "execution_count": 50
  },
  {
   "cell_type": "markdown",
   "source": [
    "# Reshaping"
   ],
   "metadata": {
    "id": "44DRCihaeptz"
   }
  },
  {
   "cell_type": "markdown",
   "source": [
    "## np.reshape\n",
    "np.reshape allows you to change the shape of an array without changing its data.\n",
    "\n",
    "```\n",
    "# Example:\n",
    "array = np.arange(6)  # Create a 1D array of values [0, 1, 2, 3, 4, 5]\n",
    "reshaped = np.reshape(array, (2, 3))  # Reshape into a 2x3 array\n",
    "print(reshaped)\n",
    "```"
   ],
   "metadata": {
    "id": "moVjVTAJ5Pa4"
   }
  },
  {
   "cell_type": "code",
   "source": [
    "# **Exercise 1**: Create a 1D array with values from 0 to 11 and reshape it into a 3x4 array.\n",
    "# (Write your code below)\n",
    "array = np.arange(12) \n",
    "print(array)\n",
    "reshaped_array = np.reshape(array, (3, 4)) \n",
    "print(reshaped_array)\n",
    "\n",
    "# Check:\n",
    "assert reshaped_array.shape == (3, 4), \"The reshaped array shape is incorrect.\"\n",
    "assert np.array_equal(reshaped_array, np.array([[0, 1, 2, 3], [4, 5, 6, 7], [8, 9, 10, 11]])), \"The reshaped array values are incorrect.\"\n"
   ],
   "metadata": {
    "id": "cuDIgoC8erjI",
    "ExecuteTime": {
     "end_time": "2024-09-27T07:47:09.566862Z",
     "start_time": "2024-09-27T07:47:09.558757Z"
    }
   },
   "outputs": [
    {
     "name": "stdout",
     "output_type": "stream",
     "text": [
      "[ 0  1  2  3  4  5  6  7  8  9 10 11]\n",
      "[[ 0  1  2  3]\n",
      " [ 4  5  6  7]\n",
      " [ 8  9 10 11]]\n"
     ]
    }
   ],
   "execution_count": 61
  },
  {
   "cell_type": "markdown",
   "source": [
    "## arr.reshape()\n",
    "The reshape method can also be called directly from the array object.\n",
    "\n",
    "```\n",
    "# Example:\n",
    "array = np.array([1, 2, 3, 4, 5, 6])\n",
    "reshaped = array.reshape((3, 2))  # Reshape into a 3x2 array\n",
    "print(reshaped)\n",
    "```"
   ],
   "metadata": {
    "id": "bhA_kHcQ5XUT"
   }
  },
  {
   "cell_type": "code",
   "source": [
    "# **Exercise 2**: Create a 1D array of 8 elements and reshape it into a 2x4 array.\n",
    "# (Write your code below)\n",
    "array = np.array([1, 2, 3, 4, 5, 6, 7, 8])\n",
    "print(array)\n",
    "reshaped = array.reshape((2, 4))  # Reshape into a 3x2 array\n",
    "print(reshaped)\n",
    "\n",
    "# Check:\n",
    "assert reshaped.shape == (2, 4), \"The reshaped array shape is incorrect.\""
   ],
   "metadata": {
    "id": "pS6jTVBPetyj",
    "ExecuteTime": {
     "end_time": "2024-09-27T07:50:10.062544Z",
     "start_time": "2024-09-27T07:50:10.056540Z"
    }
   },
   "outputs": [
    {
     "name": "stdout",
     "output_type": "stream",
     "text": [
      "[1 2 3 4 5 6 7 8]\n",
      "[[1 2 3 4]\n",
      " [5 6 7 8]]\n"
     ]
    }
   ],
   "execution_count": 66
  },
  {
   "cell_type": "markdown",
   "source": [
    "## np.newaxis\n",
    "np.newaxis is used to increase the dimensions of an array by one dimension.\n",
    "It is useful for adding new axes to an array.\n",
    "\n",
    "```\n",
    "# Example:\n",
    "array_1d = np.array([1, 2, 3])\n",
    "array_2d = array_1d[:, np.newaxis]  # Convert 1D array to 2D (column vector)\n",
    "print(array_2d)\n",
    "```"
   ],
   "metadata": {
    "id": "pvFGwlgg5ex1"
   }
  },
  {
   "cell_type": "code",
   "source": [
    "# **Exercise 3**: Create a 1D array of 5 elements and use np.newaxis to transform it into a column vector (5x1).\n",
    "# (Write your code below)\n",
    "array_1d = np.array([1, 2, 3, 4, 5])\n",
    "print(array_1d.ndim)\n",
    "array_2d = array_1d[:, np.newaxis]  # Convert 1D array to 2D (column vector)\n",
    "print(array_2d.ndim)\n",
    "print(array_2d)\n",
    "\n",
    "# Check:\n",
    "assert array_2d.shape == (5, 1), \"The newaxis operation is incorrect.\""
   ],
   "metadata": {
    "id": "OcCKizJZevIr",
    "ExecuteTime": {
     "end_time": "2024-09-27T07:51:55.563273Z",
     "start_time": "2024-09-27T07:51:55.556302Z"
    }
   },
   "outputs": [
    {
     "name": "stdout",
     "output_type": "stream",
     "text": [
      "1\n",
      "2\n",
      "[[1]\n",
      " [2]\n",
      " [3]\n",
      " [4]\n",
      " [5]]\n"
     ]
    }
   ],
   "execution_count": 68
  },
  {
   "cell_type": "markdown",
   "source": [
    "## np.expand_dims\n",
    "np.expand_dims is similar to np.newaxis but allows you to specify where to add the new axis.\n",
    "\n",
    "```\n",
    "# Example:\n",
    "array = np.array([1, 2, 3])\n",
    "expanded_array = np.expand_dims(array, axis=0)  # Add a new axis at position 0 (convert to row vector)\n",
    "print(expanded_array)\n",
    "```"
   ],
   "metadata": {
    "id": "_r6IpgVN5l6s"
   }
  },
  {
   "cell_type": "code",
   "source": [
    "# **Exercise 4**: Create a 1D array of 6 elements and use np.expand_dims to add a new axis at position 1.\n",
    "# (Write your code below)\n",
    "array = np.array([1, 2, 3, 4, 5, 6])\n",
    "expanded_array = np.expand_dims(array, axis=1)  # Add a new axis at position 0 (convert to row vector)\n",
    "print(expanded_array)\n",
    "\n",
    "# Check:\n",
    "assert expanded_array.shape == (6, 1), \"The expanded array shape is incorrect.\""
   ],
   "metadata": {
    "id": "5bKWkv02ewsE",
    "ExecuteTime": {
     "end_time": "2024-09-27T08:03:00.317518Z",
     "start_time": "2024-09-27T08:03:00.310924Z"
    }
   },
   "outputs": [
    {
     "name": "stdout",
     "output_type": "stream",
     "text": [
      "[[1]\n",
      " [2]\n",
      " [3]\n",
      " [4]\n",
      " [5]\n",
      " [6]]\n"
     ]
    }
   ],
   "execution_count": 71
  },
  {
   "cell_type": "markdown",
   "source": [
    "# Advanced Exercise (Bonus)\n",
    "Combine reshaping, newaxis, and expand_dims for multidimensional manipulations."
   ],
   "metadata": {
    "id": "F17X7bx35xlY"
   }
  },
  {
   "cell_type": "code",
   "source": [
    "# **Exercise 5**: Create a 2D array of shape (3, 3).\n",
    "# - Reshape it into a 1D array.\n",
    "# - Add a new axis using np.newaxis to convert it into a row vector (1x9).\n",
    "# - Use np.expand_dims to transform it into a column vector (9x1).\n",
    "# (Write your code below)\n",
    "a = np.array([[1,2,3],[4,5,6],[7,8,9]])\n",
    "print(a)\n",
    "reshaped_1d = a.reshape((9,))\n",
    "print(\"1d array : \", reshaped_1d)\n",
    "row_vector = reshaped_1d[np.newaxis, :]\n",
    "print(\"row_vector :\", row_vector)\n",
    "column_vector = np.expand_dims(row_vector, axis=1)\n",
    "print(\"column_vector :\", column_vector)\n",
    "\n",
    "# Check:\n",
    "assert reshaped_1d.shape == (9,), \"The reshape to 1D is incorrect.\"\n",
    "assert row_vector.shape == (1, 9), \"The row vector transformation is incorrect.\"\n",
    "#assert column_vector.shape == (9, 1), \"The column vector transformation is incorrect.\""
   ],
   "metadata": {
    "id": "VFMMNKoceyK0",
    "ExecuteTime": {
     "end_time": "2024-09-27T08:13:45.204503Z",
     "start_time": "2024-09-27T08:13:45.196202Z"
    }
   },
   "outputs": [
    {
     "name": "stdout",
     "output_type": "stream",
     "text": [
      "[[1 2 3]\n",
      " [4 5 6]\n",
      " [7 8 9]]\n",
      "1d array :  [1 2 3 4 5 6 7 8 9]\n",
      "row_vector : [[1 2 3 4 5 6 7 8 9]]\n",
      "column_vector : [[[1 2 3 4 5 6 7 8 9]]]\n"
     ]
    }
   ],
   "execution_count": 84
  }
 ]
}
