{
 "cells": [
  {
   "cell_type": "code",
   "id": "6ccebf39",
   "metadata": {
    "ExecuteTime": {
     "end_time": "2024-09-27T05:28:00.339935Z",
     "start_time": "2024-09-27T05:28:00.253478Z"
    }
   },
   "source": [
    "import os\n",
    "\n",
    "import numpy as np"
   ],
   "outputs": [],
   "execution_count": 1
  },
  {
   "cell_type": "markdown",
   "id": "4ec12723",
   "metadata": {},
   "source": [
    "### Test"
   ]
  },
  {
   "cell_type": "code",
   "id": "b1436acd",
   "metadata": {
    "ExecuteTime": {
     "end_time": "2024-09-27T05:28:05.417513Z",
     "start_time": "2024-09-27T05:28:05.414365Z"
    }
   },
   "source": [
    "print(f\"Current working directory: {os.getcwd()}\")"
   ],
   "outputs": [
    {
     "name": "stdout",
     "output_type": "stream",
     "text": [
      "Current working directory: C:\\Users\\huniv\\jnotebook\\machine-learning\\Introduction\n"
     ]
    }
   ],
   "execution_count": 2
  },
  {
   "cell_type": "markdown",
   "id": "cdfaf92d",
   "metadata": {},
   "source": [
    "### Python lists"
   ]
  },
  {
   "cell_type": "code",
   "id": "17d8601a",
   "metadata": {
    "ExecuteTime": {
     "end_time": "2024-09-27T05:28:07.857395Z",
     "start_time": "2024-09-27T05:28:07.853886Z"
    }
   },
   "source": [
    "l = [1, 2, 3, 4]\n",
    "m = [4, 3, 2, 1]\n",
    "print(f\"Example list: {l}\\n\\nAnother list: {m}\")"
   ],
   "outputs": [
    {
     "name": "stdout",
     "output_type": "stream",
     "text": [
      "Example list: [1, 2, 3, 4]\n",
      "\n",
      "Another list: [4, 3, 2, 1]\n"
     ]
    }
   ],
   "execution_count": 3
  },
  {
   "cell_type": "code",
   "id": "d657217a",
   "metadata": {
    "ExecuteTime": {
     "end_time": "2024-09-27T05:28:10.510485Z",
     "start_time": "2024-09-27T05:28:10.507787Z"
    }
   },
   "source": [
    "l.append(5)\n",
    "print(l)"
   ],
   "outputs": [
    {
     "name": "stdout",
     "output_type": "stream",
     "text": [
      "[1, 2, 3, 4, 5]\n"
     ]
    }
   ],
   "execution_count": 4
  },
  {
   "cell_type": "code",
   "id": "edeef5c6",
   "metadata": {
    "ExecuteTime": {
     "end_time": "2024-09-27T05:28:12.144118Z",
     "start_time": "2024-09-27T05:28:12.139777Z"
    }
   },
   "source": [
    "l.pop(-1)"
   ],
   "outputs": [
    {
     "data": {
      "text/plain": [
       "5"
      ]
     },
     "execution_count": 5,
     "metadata": {},
     "output_type": "execute_result"
    }
   ],
   "execution_count": 5
  },
  {
   "cell_type": "code",
   "id": "a1989e35",
   "metadata": {
    "ExecuteTime": {
     "end_time": "2024-09-27T05:28:14.307239Z",
     "start_time": "2024-09-27T05:28:14.302926Z"
    }
   },
   "source": [
    "print(l)"
   ],
   "outputs": [
    {
     "name": "stdout",
     "output_type": "stream",
     "text": [
      "[1, 2, 3, 4]\n"
     ]
    }
   ],
   "execution_count": 6
  },
  {
   "cell_type": "code",
   "id": "56ce4207",
   "metadata": {
    "ExecuteTime": {
     "end_time": "2024-09-27T05:28:17.024897Z",
     "start_time": "2024-09-27T05:28:17.021357Z"
    }
   },
   "source": [
    "l = [1, 2, 3, 4]\n",
    "m = [5, 6, 7, 9]\n",
    "n = l + m\n",
    "print(n)"
   ],
   "outputs": [
    {
     "name": "stdout",
     "output_type": "stream",
     "text": [
      "[1, 2, 3, 4, 5, 6, 7, 9]\n"
     ]
    }
   ],
   "execution_count": 7
  },
  {
   "cell_type": "code",
   "id": "505f8b77",
   "metadata": {
    "ExecuteTime": {
     "end_time": "2024-09-27T05:28:19.408090Z",
     "start_time": "2024-09-27T05:28:19.092860Z"
    }
   },
   "source": [
    "l = [1, 2, 3, 4]\n",
    "m = [5, 6, 7, 8]\n",
    "n = l * m\n",
    "print(n)"
   ],
   "outputs": [
    {
     "ename": "TypeError",
     "evalue": "can't multiply sequence by non-int of type 'list'",
     "output_type": "error",
     "traceback": [
      "\u001B[1;31m---------------------------------------------------------------------------\u001B[0m",
      "\u001B[1;31mTypeError\u001B[0m                                 Traceback (most recent call last)",
      "Cell \u001B[1;32mIn[8], line 3\u001B[0m\n\u001B[0;32m      1\u001B[0m l \u001B[38;5;241m=\u001B[39m [\u001B[38;5;241m1\u001B[39m, \u001B[38;5;241m2\u001B[39m, \u001B[38;5;241m3\u001B[39m, \u001B[38;5;241m4\u001B[39m]\n\u001B[0;32m      2\u001B[0m m \u001B[38;5;241m=\u001B[39m [\u001B[38;5;241m5\u001B[39m, \u001B[38;5;241m6\u001B[39m, \u001B[38;5;241m7\u001B[39m, \u001B[38;5;241m8\u001B[39m]\n\u001B[1;32m----> 3\u001B[0m n \u001B[38;5;241m=\u001B[39m l \u001B[38;5;241m*\u001B[39m m\n\u001B[0;32m      4\u001B[0m \u001B[38;5;28mprint\u001B[39m(n)\n",
      "\u001B[1;31mTypeError\u001B[0m: can't multiply sequence by non-int of type 'list'"
     ]
    }
   ],
   "execution_count": 8
  },
  {
   "cell_type": "code",
   "id": "4b863f07",
   "metadata": {
    "ExecuteTime": {
     "end_time": "2024-09-27T05:28:21.281984Z",
     "start_time": "2024-09-27T05:28:21.279134Z"
    }
   },
   "source": [
    "l = [1, 2, 3, 4]\n",
    "m = 2 * l # `l + l`\n",
    "print(m)"
   ],
   "outputs": [
    {
     "name": "stdout",
     "output_type": "stream",
     "text": [
      "[1, 2, 3, 4, 1, 2, 3, 4]\n"
     ]
    }
   ],
   "execution_count": 9
  },
  {
   "cell_type": "markdown",
   "id": "195a3f5e",
   "metadata": {},
   "source": [
    "### Numpy Arrays"
   ]
  },
  {
   "cell_type": "markdown",
   "id": "6d21709a",
   "metadata": {},
   "source": [
    "#### Array per se"
   ]
  },
  {
   "cell_type": "code",
   "id": "0c7f50b8",
   "metadata": {
    "ExecuteTime": {
     "end_time": "2024-09-27T05:28:34.281895Z",
     "start_time": "2024-09-27T05:28:34.278626Z"
    }
   },
   "source": [
    "def print_array_info(*args) -> None:\n",
    "    for arg in args: \n",
    "        if type(arg) == np.ndarray: \n",
    "            print(f\"Array:\\n{arg}\\nNumber of axes: {arg.ndim}, shape: {arg.shape}, \"\n",
    "                  f\"dtype: {arg.dtype}\\n\\n\")\n",
    "        else: \n",
    "            raise ValueError(\n",
    "                f\"Wrong object type: {type(arg)}, expected type \"\n",
    "                \"`np.ndarray`\"\n",
    "            )"
   ],
   "outputs": [],
   "execution_count": 10
  },
  {
   "cell_type": "code",
   "id": "3913043f",
   "metadata": {
    "ExecuteTime": {
     "end_time": "2024-09-27T05:28:38.892547Z",
     "start_time": "2024-09-27T05:28:38.886717Z"
    }
   },
   "source": [
    "a = np.array([1., 2., 3., 4.]) # np.array([1, 2, 3, 4])\n",
    "print_array_info(a)"
   ],
   "outputs": [
    {
     "name": "stdout",
     "output_type": "stream",
     "text": [
      "Array:\n",
      "[1. 2. 3. 4.]\n",
      "Number of axes: 1, shape: (4,), dtype: float64\n",
      "\n",
      "\n"
     ]
    }
   ],
   "execution_count": 11
  },
  {
   "cell_type": "code",
   "id": "9a1401a6",
   "metadata": {
    "ExecuteTime": {
     "end_time": "2024-09-27T05:28:49.738515Z",
     "start_time": "2024-09-27T05:28:49.734702Z"
    }
   },
   "source": [
    "a2 = np.array([1., 2, 3, 4])\n",
    "print_array_info(a2)"
   ],
   "outputs": [
    {
     "name": "stdout",
     "output_type": "stream",
     "text": [
      "Array:\n",
      "[1. 2. 3. 4.]\n",
      "Number of axes: 1, shape: (4,), dtype: float64\n",
      "\n",
      "\n"
     ]
    }
   ],
   "execution_count": 12
  },
  {
   "cell_type": "code",
   "id": "7d105978",
   "metadata": {
    "ExecuteTime": {
     "end_time": "2024-09-27T05:29:00.611258Z",
     "start_time": "2024-09-27T05:29:00.607678Z"
    }
   },
   "source": [
    "b = np.array([l])\n",
    "print_array_info(b)"
   ],
   "outputs": [
    {
     "name": "stdout",
     "output_type": "stream",
     "text": [
      "Array:\n",
      "[[1 2 3 4]]\n",
      "Number of axes: 2, shape: (1, 4), dtype: int32\n",
      "\n",
      "\n"
     ]
    }
   ],
   "execution_count": 13
  },
  {
   "cell_type": "code",
   "id": "4f64a381",
   "metadata": {
    "ExecuteTime": {
     "end_time": "2024-09-27T05:29:22.436319Z",
     "start_time": "2024-09-27T05:29:22.432912Z"
    }
   },
   "source": [
    "c = np.array([[l]])\n",
    "print_array_info(c)"
   ],
   "outputs": [
    {
     "name": "stdout",
     "output_type": "stream",
     "text": [
      "Array:\n",
      "[[[1 2 3 4]]]\n",
      "Number of axes: 3, shape: (1, 1, 4), dtype: int32\n",
      "\n",
      "\n"
     ]
    }
   ],
   "execution_count": 14
  },
  {
   "cell_type": "code",
   "id": "f1282a21",
   "metadata": {
    "ExecuteTime": {
     "end_time": "2024-09-27T05:29:43.889576Z",
     "start_time": "2024-09-27T05:29:43.886770Z"
    }
   },
   "source": [
    "d = np.array([[1, 2, 4, 5], [6, 7, 8, 9], [10, 11, 12, 98]])\n",
    "print_array_info(d)"
   ],
   "outputs": [
    {
     "name": "stdout",
     "output_type": "stream",
     "text": [
      "Array:\n",
      "[[ 1  2  4  5]\n",
      " [ 6  7  8  9]\n",
      " [10 11 12 98]]\n",
      "Number of axes: 2, shape: (3, 4), dtype: int32\n",
      "\n",
      "\n"
     ]
    }
   ],
   "execution_count": 15
  },
  {
   "cell_type": "markdown",
   "id": "7775ccd4",
   "metadata": {},
   "source": [
    "#### Array Manipulations"
   ]
  },
  {
   "cell_type": "code",
   "id": "5aaa49bc",
   "metadata": {
    "ExecuteTime": {
     "end_time": "2024-09-27T05:30:11.437146Z",
     "start_time": "2024-09-27T05:30:11.433228Z"
    }
   },
   "source": [
    "# a = np.random.rand(2, 2)\n",
    "# b = np.random.rand(2, 2)\n",
    "a = np.array([1, 2, 3, 4])\n",
    "b = np.array([5, 6, 7, 9])\n",
    "print_array_info(a, b)\n",
    "\n",
    "c = a + b\n",
    "print_array_info(c)"
   ],
   "outputs": [
    {
     "name": "stdout",
     "output_type": "stream",
     "text": [
      "Array:\n",
      "[1 2 3 4]\n",
      "Number of axes: 1, shape: (4,), dtype: int32\n",
      "\n",
      "\n",
      "Array:\n",
      "[5 6 7 9]\n",
      "Number of axes: 1, shape: (4,), dtype: int32\n",
      "\n",
      "\n",
      "Array:\n",
      "[ 6  8 10 13]\n",
      "Number of axes: 1, shape: (4,), dtype: int32\n",
      "\n",
      "\n"
     ]
    }
   ],
   "execution_count": 16
  },
  {
   "cell_type": "code",
   "id": "d7265fe0",
   "metadata": {
    "ExecuteTime": {
     "end_time": "2024-09-27T05:30:24.290514Z",
     "start_time": "2024-09-27T05:30:24.286847Z"
    }
   },
   "source": [
    "c = np.array([1, 2, 3, 4])\n",
    "d = np.array([5, 6, 7, 8])\n",
    "e = c * d\n",
    "print_array_info(c, d, e)"
   ],
   "outputs": [
    {
     "name": "stdout",
     "output_type": "stream",
     "text": [
      "Array:\n",
      "[1 2 3 4]\n",
      "Number of axes: 1, shape: (4,), dtype: int32\n",
      "\n",
      "\n",
      "Array:\n",
      "[5 6 7 8]\n",
      "Number of axes: 1, shape: (4,), dtype: int32\n",
      "\n",
      "\n",
      "Array:\n",
      "[ 5 12 21 32]\n",
      "Number of axes: 1, shape: (4,), dtype: int32\n",
      "\n",
      "\n"
     ]
    }
   ],
   "execution_count": 17
  },
  {
   "cell_type": "code",
   "id": "0295e031",
   "metadata": {
    "ExecuteTime": {
     "end_time": "2024-09-27T05:30:41.901471Z",
     "start_time": "2024-09-27T05:30:41.898198Z"
    }
   },
   "source": [
    "c = np.array([1, 2, 3, 4])\n",
    "d = 2 * c # `np.array([2, 2, 2, 2]) * np.array([1, 2, 3, 4])`\n",
    "print_array_info(d)"
   ],
   "outputs": [
    {
     "name": "stdout",
     "output_type": "stream",
     "text": [
      "Array:\n",
      "[2 4 6 8]\n",
      "Number of axes: 1, shape: (4,), dtype: int32\n",
      "\n",
      "\n"
     ]
    }
   ],
   "execution_count": 18
  },
  {
   "cell_type": "code",
   "id": "d5101f07",
   "metadata": {
    "ExecuteTime": {
     "end_time": "2024-09-27T05:31:01.082050Z",
     "start_time": "2024-09-27T05:31:01.069479Z"
    }
   },
   "source": [
    "# This will not work, expected\n",
    "c = np.array([1, 2, 3, 4])\n",
    "d = np.array([2, 3])\n",
    "e = d * c\n",
    "print_array_info(e)"
   ],
   "outputs": [
    {
     "ename": "ValueError",
     "evalue": "operands could not be broadcast together with shapes (2,) (4,) ",
     "output_type": "error",
     "traceback": [
      "\u001B[1;31m---------------------------------------------------------------------------\u001B[0m",
      "\u001B[1;31mValueError\u001B[0m                                Traceback (most recent call last)",
      "Cell \u001B[1;32mIn[19], line 4\u001B[0m\n\u001B[0;32m      2\u001B[0m c \u001B[38;5;241m=\u001B[39m np\u001B[38;5;241m.\u001B[39marray([\u001B[38;5;241m1\u001B[39m, \u001B[38;5;241m2\u001B[39m, \u001B[38;5;241m3\u001B[39m, \u001B[38;5;241m4\u001B[39m])\n\u001B[0;32m      3\u001B[0m d \u001B[38;5;241m=\u001B[39m np\u001B[38;5;241m.\u001B[39marray([\u001B[38;5;241m2\u001B[39m, \u001B[38;5;241m3\u001B[39m])\n\u001B[1;32m----> 4\u001B[0m e \u001B[38;5;241m=\u001B[39m d \u001B[38;5;241m*\u001B[39m c\n\u001B[0;32m      5\u001B[0m print_array_info(e)\n",
      "\u001B[1;31mValueError\u001B[0m: operands could not be broadcast together with shapes (2,) (4,) "
     ]
    }
   ],
   "execution_count": 19
  },
  {
   "cell_type": "markdown",
   "id": "d28135d7",
   "metadata": {},
   "source": [
    "### Sets"
   ]
  },
  {
   "cell_type": "code",
   "id": "0d3e68ad",
   "metadata": {
    "ExecuteTime": {
     "end_time": "2024-09-27T05:31:08.290374Z",
     "start_time": "2024-09-27T05:31:08.287332Z"
    }
   },
   "source": [
    "s = set(l)\n",
    "t = set(m)\n",
    "print(f\"Example set: {s}\\n\\nAnother set: {t}\")"
   ],
   "outputs": [
    {
     "name": "stdout",
     "output_type": "stream",
     "text": [
      "Example set: {1, 2, 3, 4}\n",
      "\n",
      "Another set: {1, 2, 3, 4}\n"
     ]
    }
   ],
   "execution_count": 20
  },
  {
   "cell_type": "code",
   "execution_count": null,
   "id": "f79dc2ad",
   "metadata": {},
   "outputs": [],
   "source": []
  }
 ],
 "metadata": {
  "kernelspec": {
   "display_name": "Python 3",
   "language": "python",
   "name": "python3"
  },
  "language_info": {
   "codemirror_mode": {
    "name": "ipython",
    "version": 3
   },
   "file_extension": ".py",
   "mimetype": "text/x-python",
   "name": "python",
   "nbconvert_exporter": "python",
   "pygments_lexer": "ipython3",
   "version": "3.9.13"
  }
 },
 "nbformat": 4,
 "nbformat_minor": 5
}
