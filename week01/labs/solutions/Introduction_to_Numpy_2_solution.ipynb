{
  "nbformat": 4,
  "nbformat_minor": 0,
  "metadata": {
    "colab": {
      "provenance": []
    },
    "kernelspec": {
      "name": "python3",
      "display_name": "Python 3"
    },
    "language_info": {
      "name": "python"
    }
  },
  "cells": [
    {
      "cell_type": "markdown",
      "source": [
        "# Introduction to NumPy\n",
        "\n",
        "NumPy is a fundamental package for scientific computing in Python. It allows efficient manipulation of arrays and matrices, providing a wide array of mathematical functions to work with these data structures.\n",
        "\n",
        "---"
      ],
      "metadata": {
        "id": "taaT3zxV3BzF"
      }
    },
    {
      "cell_type": "code",
      "source": [
        "!pip install numpy"
      ],
      "metadata": {
        "id": "x8dbyMKJ3W3W"
      },
      "execution_count": null,
      "outputs": []
    },
    {
      "cell_type": "code",
      "source": [
        "import numpy as np"
      ],
      "metadata": {
        "id": "8azrkiA43YuH"
      },
      "execution_count": null,
      "outputs": []
    },
    {
      "cell_type": "markdown",
      "source": [
        "## Section 1: Creating Arrays from Lists\n",
        "\n",
        "In this section, you'll learn how to create NumPy arrays directly from Python lists. You will practice creating arrays and performing basic operations on them."
      ],
      "metadata": {
        "id": "HnJz-SCg3Iu0"
      }
    },
    {
      "cell_type": "markdown",
      "source": [
        "### Exercise 1: Creating and manipulating arrays\n",
        "\n",
        "1. Create a NumPy array `arr1` from the list `[10, 20, 30, 40, 50]` (using [np.array](https://numpy.org/doc/stable/reference/generated/numpy.array.html))\n",
        "2. Create another array `arr2` from the list `[5, 4, 3, 2, 1]`.\n",
        "3. Add the two arrays together and store the result in `arr_sum`.\n",
        "4. Multiply `arr1` by 2 and store the result in `arr_mult`.\n",
        "\n",
        "Use `assert` statements to verify:\n",
        "- `arr_sum` is equal to `[15, 24, 33, 42, 51]`\n",
        "- `arr_mult` is equal to `[20, 40, 60, 80, 100]`"
      ],
      "metadata": {
        "id": "k2o67_t93Ku1"
      }
    },
    {
      "cell_type": "code",
      "source": [
        "arr1 = np.array([10, 20, 30, 40, 50])\n",
        "arr2 = np.array([5, 4, 3, 2, 1])\n",
        "arr_sum = arr1 + arr2\n",
        "arr_mult = arr1 * 2\n",
        "\n",
        "# Assert statements to check your work\n",
        "assert np.array_equal(arr_sum, np.array([15, 24, 33, 42, 51])), \"arr_sum is incorrect!\"\n",
        "assert np.array_equal(arr_mult, np.array([20, 40, 60, 80, 100])), \"arr_mult is incorrect!\""
      ],
      "metadata": {
        "id": "z4SbxO0X3TjU"
      },
      "execution_count": null,
      "outputs": []
    },
    {
      "cell_type": "markdown",
      "source": [
        "### Exercise 2: Array indexing and slicing\n",
        "\n",
        "* Create a NumPy array arr3 from the list `[100, 200, 300, 400, 500]`.\n",
        "* Extract the first three elements of `arr3` and store them in `first_three` (using [numpy slicing](https://www.w3schools.com/python/numpy/numpy_array_slicing.asp)).\n",
        "* Extract the last two elements of `arr3` and store them in `last_two`.\n",
        "* Reverse the order of elements in `arr3` and store the result in `reversed_arr`.\n",
        "* Extract every second element from `arr3` and store the result in `every_second`.\n",
        "* Extract the elements from `arr3` in reverse order, but skip every second element, and store the result in `reversed_skip_two`.\n",
        "\n",
        "Use assert statements to verify:\n",
        "\n",
        "* `first_three` is equal to `[100, 200, 300]`\n",
        "* `last_two` is equal to `[400, 500]`\n",
        "* `reversed_arr` is equal to `[500, 400, 300, 200, 100]`\n",
        "* `every_second` is equal to `[100, 300, 500]`\n",
        "* `reversed_skip_two` is equal to `[500, 300, 100]`"
      ],
      "metadata": {
        "id": "YIgm_UEW3hzU"
      }
    },
    {
      "cell_type": "code",
      "source": [
        "arr3 = np.array([100, 200, 300, 400, 500])\n",
        "first_three = arr3[:3]\n",
        "last_two = arr3[-2:]\n",
        "reversed_arr = arr3[::-1]\n",
        "every_second = arr3[::2]\n",
        "reversed_skip_two = arr3[::-2]\n",
        "\n",
        "# Assert statements to check your work\n",
        "assert np.array_equal(first_three, np.array([100, 200, 300])), \"first_three is incorrect!\"\n",
        "assert np.array_equal(last_two, np.array([400, 500])), \"last_two is incorrect!\"\n",
        "assert np.array_equal(reversed_arr, np.array([500, 400, 300, 200, 100])), \"reversed_arr is incorrect!\"\n",
        "assert np.array_equal(every_second, np.array([100, 300, 500])), \"every_second is incorrect!\"\n",
        "assert np.array_equal(reversed_skip_two, np.array([500, 300, 100])), \"reversed_skip_two is incorrect!\""
      ],
      "metadata": {
        "id": "-7orhHVQ31iK"
      },
      "execution_count": null,
      "outputs": []
    },
    {
      "cell_type": "markdown",
      "source": [
        "## Section 2: Array Operations\n",
        "\n",
        "In this section, you'll learn how to perform various element-wise operations on NumPy arrays, including mathematical operations and reshaping.\n",
        "\n",
        "### Exercise 3: Basic array operations\n",
        "\n",
        "* Create a NumPy array `arr4` from the list `[1, 2, 3, 4, 5]`.\n",
        "* Square each element of `arr4` and store the result in `squared_arr`.\n",
        "* Calculate the sum of all elements in `arr4` and store it in `arr_sum` (using [np.sum](https://numpy.org/doc/stable/reference/generated/numpy.sum.html)).\n",
        "* Find the maximum value in `arr4` and store it in `arr_max` (using [np.max](https://numpy.org/doc/stable/reference/generated/numpy.max.html)).\n",
        "\n",
        "Use assert statements to verify:\n",
        "\n",
        "* `squared_arr` is equal to `[1, 4, 9, 16, 25]`\n",
        "* `arr_sum` is equal to 15\n",
        "* `arr_max` is equal to 5"
      ],
      "metadata": {
        "id": "AUF0uZrA4NdP"
      }
    },
    {
      "cell_type": "code",
      "source": [
        "arr4 = np.array([1, 2, 3, 4, 5])\n",
        "squared_arr = arr4**2\n",
        "arr_sum = np.sum(arr4)\n",
        "arr_max = np.max(arr4)\n",
        "\n",
        "# Assert statements to check your work\n",
        "assert np.array_equal(squared_arr, np.array([1, 4, 9, 16, 25])), \"squared_arr is incorrect!\"\n",
        "assert arr_sum == 15, \"arr_sum is incorrect!\"\n",
        "assert arr_max == 5, \"arr_max is incorrect!\""
      ],
      "metadata": {
        "id": "t4Pr_aAz4cXx"
      },
      "execution_count": null,
      "outputs": []
    },
    {
      "cell_type": "markdown",
      "source": [
        "### Exercise 4: Reshaping arrays\n",
        "\n",
        "* Create a NumPy array `arr5` with values ranging from 1 to 12 (using [np.arange](https://numpy.org/doc/stable/reference/generated/numpy.arange.html)).\n",
        "* Reshape `arr5` into a 3x4 matrix and store it in `reshaped_arr` (using [np.reshape](https://numpy.org/doc/stable/reference/generated/numpy.reshape.html)).\n",
        "* Extract the second row of `reshaped_arr` and store it in `second_row`.\n",
        "* Extract the third column of `reshaped_arr` and store it in `third_column`.\n",
        "\n",
        "Use assert statements to verify:\n",
        "\n",
        "* `reshaped_arr` has shape `(3, 4)`\n",
        "* `second_row` is equal to `[5, 6, 7, 8]`\n",
        "* `third_column` is equal to `[3, 7, 11]`"
      ],
      "metadata": {
        "id": "OVtM2-h14pIL"
      }
    },
    {
      "cell_type": "code",
      "source": [
        "arr5 = np.arange(1, 13, 1)\n",
        "reshaped_arr = np.reshape(arr5, (3, 4))\n",
        "second_row = reshaped_arr[1]\n",
        "third_column = reshaped_arr[:, 2]\n",
        "\n",
        "# Assert statements to check your work\n",
        "assert reshaped_arr.shape == (3, 4), \"reshaped_arr shape is incorrect!\"\n",
        "assert np.array_equal(second_row, np.array([5, 6, 7, 8])), \"second_row is incorrect!\"\n",
        "assert np.array_equal(third_column, np.array([3, 7, 11])), \"third_column is incorrect!\""
      ],
      "metadata": {
        "id": "UCwpRvw547hK"
      },
      "execution_count": null,
      "outputs": []
    },
    {
      "cell_type": "markdown",
      "source": [
        "## Section 3: Boolean Indexing and Filtering\n",
        "\n",
        "In this section, you'll learn how to filter arrays based on conditions using boolean indexing.\n",
        "\n",
        "### Exercise 5: Filtering elements\n",
        "\n",
        "* Create a NumPy array `arr6` from the list `[10, 15, 20, 25, 30, 35]`.\n",
        "* Create a boolean mask that selects all elements in `arr6` greater than 20 and store it in `mask`.\n",
        "* Apply the mask to `arr6` and store the result in `filtered_arr`.\n",
        "\n",
        "Use assert statements to verify:\n",
        "\n",
        "* mask is equal to `[False, False, False, True, True, True]`\n",
        "* filtered_arr is equal to `[25, 30, 35]`"
      ],
      "metadata": {
        "id": "FtQj3P-G5EJc"
      }
    },
    {
      "cell_type": "code",
      "source": [
        "arr6 = np.arange(10, 36, 5)\n",
        "mask = arr6 > 20\n",
        "filtered_arr = arr6[mask]\n",
        "\n",
        "# Assert statements to check your work\n",
        "assert np.array_equal(mask, np.array([False, False, False, True, True, True])), \"mask is incorrect!\"\n",
        "assert np.array_equal(filtered_arr, np.array([25, 30, 35])), \"filtered_arr is incorrect!\""
      ],
      "metadata": {
        "id": "S5Txt28_5zpT"
      },
      "execution_count": null,
      "outputs": []
    },
    {
      "cell_type": "markdown",
      "source": [
        "## Section 4: Combining and Splitting Arrays\n",
        "\n",
        "In this section, you'll practice combining arrays using functions like `np.concatenate()` [np.concatenate](https://numpy.org/doc/2.0/reference/generated/numpy.concatenate.html) and splitting them with `np.split()` ([np.split](https://numpy.org/doc/stable/reference/generated/numpy.split.html)).\n",
        "\n",
        "### Exercise 6: Combining arrays\n",
        "\n",
        "* Create two NumPy arrays, `arr7` and `arr8`, from the lists `[1, 2, 3]` and `[4, 5, 6]`.\n",
        "* Concatenate `arr7` and `arr8` into a single array `combined_arr`.\n",
        "\n",
        "Use assert statements to verify:\n",
        "\n",
        "* `combined_arr` is equal to `[1, 2, 3, 4, 5, 6]`"
      ],
      "metadata": {
        "id": "YL8XaurQ56Ud"
      }
    },
    {
      "cell_type": "code",
      "source": [
        "arr7 = np.array([1, 2, 3])\n",
        "arr8 = np.array([4, 5, 6])\n",
        "combined_arr = np.concatenate((arr7, arr8))\n",
        "\n",
        "# Assert statements to check your work\n",
        "assert np.array_equal(combined_arr, np.array([1, 2, 3, 4, 5, 6])), \"combined_arr is incorrect!\""
      ],
      "metadata": {
        "id": "QfMjVL6b6VQY"
      },
      "execution_count": null,
      "outputs": []
    },
    {
      "cell_type": "markdown",
      "source": [
        "### Exercise 7: Splitting arrays\n",
        "\n",
        "* Create a NumPy array `arr9` from the list `[10, 20, 30, 40, 50, 60]`.\n",
        "* Split `arr9` into three equal parts and store the result in `split_arrs`.\n",
        "\n",
        "Use assert statements to verify:\n",
        "\n",
        "* `split_arrs[0]` is equal to `[10, 20]`\n",
        "* `split_arrs[1]` is equal to `[30, 40]`\n",
        "* `split_arrs[2]` is equal to `[50, 60]`"
      ],
      "metadata": {
        "id": "P_UzLQ506Xm8"
      }
    },
    {
      "cell_type": "code",
      "source": [
        "arr9 = np.arange(10, 61, 10)\n",
        "split_arrs = np.split(arr9, 3)\n",
        "\n",
        "# Assert statements to check your work\n",
        "assert np.array_equal(split_arrs[0], np.array([10, 20])), \"split_arrs[0] is incorrect!\"\n",
        "assert np.array_equal(split_arrs[1], np.array([30, 40])), \"split_arrs[1] is incorrect!\"\n",
        "assert np.array_equal(split_arrs[2], np.array([50, 60])), \"split_arrs[2] is incorrect!\""
      ],
      "metadata": {
        "id": "OF5f1rh-6rKQ"
      },
      "execution_count": null,
      "outputs": []
    },
    {
      "cell_type": "markdown",
      "source": [
        "## Section 5: Summary Statistics\n",
        "\n",
        "In this section, you'll calculate common summary statistics like mean, median, and standard deviation on NumPy arrays.\n",
        "\n",
        "### Exercise 8: Calculating statistics\n",
        "\n",
        "* Create a NumPy array `arr10` from the list `[1, 2, 3, 4, 5, 6, 7, 8, 9, 10]`.\n",
        "* Calculate the mean of `arr10` and store it in `mean_value` ([np.mean](https://numpy.org/doc/stable/reference/generated/numpy.mean.html)).\n",
        "* Calculate the median of `arr10` and store it in `median_value` ([np.median](https://numpy.org/doc/stable/reference/generated/numpy.median.html)).\n",
        "* Calculate the standard deviation of `arr10` and store it in `std_value` ([np.std](https://numpy.org/doc/stable/reference/generated/numpy.std.html)).\n",
        "\n",
        "Use assert statements to verify:\n",
        "\n",
        "* `mean_value` is equal to 5.5\n",
        "* `median_value` is equal to 5.5\n",
        "* `std_value` is approximately 2.87 (use `np.isclose()` for floating point comparison)"
      ],
      "metadata": {
        "id": "C_PNTZg67CGa"
      }
    },
    {
      "cell_type": "code",
      "source": [
        "arr10 = np.arange(1, 11, 1)\n",
        "mean_value = np.mean(arr10)\n",
        "median_value = np.median(arr10)\n",
        "std_value = np.std(arr10)\n",
        "\n",
        "# Assert statements to check your work\n",
        "assert mean_value == 5.5, \"mean_value must be 5.5\"\n",
        "assert median_value == 5.5, \"median_value must be 5.5\"\n",
        "assert np.isclose(std_value, 2.87, atol=2), \"std_value must close to 2.87\""
      ],
      "metadata": {
        "id": "TY2w21gv7nDp"
      },
      "execution_count": null,
      "outputs": []
    },
    {
      "cell_type": "markdown",
      "source": [
        "## Section 6: Constructing a Datatype Object (dtype)\n",
        "\n",
        "In this section, you'll learn how to specify the datatype (`dtype`) of arrays and manipulate data types in NumPy.\n",
        "\n",
        "### Exercise 9: Creating arrays with different dtypes\n",
        "\n",
        "* Create a NumPy array `arr11` from the list `[1, 2, 3, 4, 5]` with dtype=np.float64.\n",
        "* Create another array `arr12` from the list `[10, 20, 30, 40, 50]` with `dtype=np.int64`.\n",
        "* Change the data type of `arr11` to int64 and store the result in `arr11_int` (using [np.ndarray.astype](https://numpy.org/doc/stable/reference/generated/numpy.ndarray.astype.html)).\n",
        "\n",
        "Use assert statements to verify:\n",
        "\n",
        "* `arr11.dtype` is `float64`\n",
        "* `arr12.dtype` is `int64`\n",
        "* `arr11_int.dtype` is `int64`\n"
      ],
      "metadata": {
        "id": "saD5CSN788BS"
      }
    },
    {
      "cell_type": "code",
      "source": [
        "arr11 = np.array([1, 2, 3, 4, 5], dtype=np.float64)\n",
        "arr12 = np.array([10, 20, 30,  40, 50], dtype=np.int64)\n",
        "arr11_int = arr11.astype(np.int64)\n",
        "\n",
        "# Assert statements to check your work\n",
        "assert arr11.dtype == np.float64, \"arr11 dtype is incorrect!\"\n",
        "assert arr12.dtype == np.int64, \"arr12 dtype is incorrect!\"\n",
        "assert arr11_int.dtype == np.int64, \"arr11_int dtype is incorrect!\""
      ],
      "metadata": {
        "id": "8Yn2lNxj9QCE"
      },
      "execution_count": null,
      "outputs": []
    },
    {
      "cell_type": "markdown",
      "source": [
        "## Section 7: Functions all(), any(), argmax(), argmin(), and Similar\n",
        "\n",
        "In this section, you'll learn to use some common functions in NumPy that allow you to perform logical checks and find indices of maximum and minimum values.\n",
        "\n",
        "### Exercise 10: Using all(), any(), argmax(), argmin()\n",
        "\n",
        "* Create a NumPy array `arr13` from the list `[1, 2, 0, 4, 0]`.\n",
        "* Use `np.all()` to check if all elements in `arr13` are non-zero, and store the result in `all_check` (using [np.all](https://numpy.org/doc/stable/reference/generated/numpy.all.html)).\n",
        "* Use `np.any()` to check if any elements in `arr13` are non-zero, and store the result in `any_check` (using [np.any](https://numpy.org/doc/2.0/reference/generated/numpy.any.html)).\n",
        "* Find the index of the maximum value in `arr13` using `np.argmax()` and store it in `max_index` (using [np.argmax](https://numpy.org/doc/stable/reference/generated/numpy.argmax.html)).\n",
        "* Find the index of the minimum value in `arr13` using `np.argmin()` and store it in `min_index` (using [np.argmin](https://numpy.org/doc/stable/reference/generated/numpy.argmin.html)).\n",
        "\n",
        "Use assert statements to verify:\n",
        "\n",
        "* `all_check` is False\n",
        "* `any_check` is True\n",
        "* `max_index` is 3\n",
        "* `min_index` is 2"
      ],
      "metadata": {
        "id": "las1f71P9dmU"
      }
    },
    {
      "cell_type": "code",
      "source": [
        "arr13 = np.array([1, 2, 0, 4, 0])\n",
        "all_check = np.all(arr13 != 0)\n",
        "any_check = np.any(arr13 != 0)\n",
        "max_index = np.argmax(arr13)\n",
        "min_index = np.argmin(arr13)\n",
        "\n",
        "# Assert statements to check your work\n",
        "assert all_check == False, \"all_check is incorrect!\"\n",
        "assert any_check == True, \"any_check is incorrect!\"\n",
        "assert max_index == 3, \"max_index is incorrect!\"\n",
        "assert min_index == 2, \"min_index is incorrect!\""
      ],
      "metadata": {
        "id": "TIOhwT9Z98xQ"
      },
      "execution_count": null,
      "outputs": []
    },
    {
      "cell_type": "markdown",
      "source": [
        "## Section 8: Creating Arrays with zeros(), zeros_like(), empty(), empty_like(), ones(), and ones_like()\n",
        "\n",
        "In this section, you'll practice creating arrays using functions like `zeros()`, `ones()`, `empty()`, and their \"like\" counterparts.\n",
        "\n",
        "### Exercise 11: Using zeros(), ones(), empty(), and \"like\" functions\n",
        "\n",
        "* Create a 3x3 array of zeros called `arr14`.\n",
        "* Create a 2x2 array of ones called `arr15`.\n",
        "* Create a 2x3 array of uninitialized values using `np.empty()` and store it in `arr16`.\n",
        "* Create a 3x3 array of ones, but use `np.ones_like()` to match the shape of `arr14` and store it in `arr17`.\n",
        "\n",
        "Use assert statements to verify:\n",
        "\n",
        "* `arr14` is a 3x3 array of zeros.\n",
        "* `arr15` is a 2x2 array of ones.\n",
        "* `arr16` has shape `(2, 3)` (ignore its values as they are uninitialized).\n",
        "* `arr17` is a 3x3 array of ones."
      ],
      "metadata": {
        "id": "5zbDLiBX-AjU"
      }
    },
    {
      "cell_type": "code",
      "source": [
        "arr14 = np.zeros((3, 3))\n",
        "arr15 = np.ones((2, 2))\n",
        "arr16 = np.empty((2, 3))\n",
        "arr17 = np.ones_like(arr14)\n",
        "\n",
        "# Assert statements to check your work\n",
        "assert arr14.shape == (3, 3) and np.all(arr14 == 0), \"arr14 is incorrect!\"\n",
        "assert arr15.shape == (2, 2) and np.all(arr15 == 1), \"arr15 is incorrect!\"\n",
        "assert arr16.shape == (2, 3), \"arr16 shape is incorrect!\"\n",
        "assert arr17.shape == (3, 3) and np.all(arr17 == 1), \"arr17 is incorrect!\""
      ],
      "metadata": {
        "id": "flivJht6-Z4P"
      },
      "execution_count": null,
      "outputs": []
    },
    {
      "cell_type": "markdown",
      "source": [
        "## Section 9: Creating Sequences with arange, linspace, and logspace\n",
        "\n",
        "In this section, you'll learn to create sequences of values using `arange()`, `linspace()`, and `logspace()`.\n",
        "\n",
        "### Exercise 12: Using arange(), linspace(), and logspace()\n",
        "\n",
        "* Create an array `arr18` using `np.arange()` with values from 0 to 10 (exclusive), with a step size of 2.\n",
        "* Create an array `arr19` using `np.linspace()` to generate 5 equally spaced values between 0 and 1.\n",
        "* Create an array `arr20` using `np.logspace()` to generate 5 values between 2^2 and 2^10 on a logarithmic scale.\n",
        "\n",
        "Use assert statements to verify:\n",
        "\n",
        "* arr18 is `[0, 2, 4, 6, 8]`\n",
        "* arr19 is `[0.0, 0.25, 0.5, 0.75, 1.0]`\n",
        "* arr20 is `[4, 16, 64, 256, 1024]`"
      ],
      "metadata": {
        "id": "ItVDk3ib-c_Y"
      }
    },
    {
      "cell_type": "code",
      "source": [
        "arr18 = np.arange(0, 10, 2)\n",
        "arr19 = np.linspace(0, 1, 5)\n",
        "arr20 = np.logspace(2, 10, 5, base=2)\n",
        "\n",
        "# Assert statements to check your work\n",
        "assert np.array_equal(arr18, np.array([0, 2, 4, 6, 8])), \"arr18 is incorrect!\"\n",
        "assert np.array_equal(arr19, np.array([0.0, 0.25, 0.5, 0.75, 1.0])), \"arr19 is incorrect!\"\n",
        "assert np.allclose(arr20, [4, 16, 64, 256, 1024]), \"arr20 is incorrect!\""
      ],
      "metadata": {
        "id": "f0jO6Rbe-9Tn"
      },
      "execution_count": null,
      "outputs": []
    },
    {
      "cell_type": "markdown",
      "source": [
        "## Section 10: Mathematical Transformations\n",
        "\n",
        "In this section, you'll apply various mathematical transformations to arrays, such as logarithmic, exponential, and absolute transformations.\n",
        "\n",
        "### Exercise 13: Applying log, log2, floor, ceil, power, exp, absolute\n",
        "\n",
        "* Create a NumPy array `arr21` from the list `[0.1, 1, 10, 100]`.\n",
        "* Apply the natural logarithm (`np.log()`) to `arr21` and store the result in `log_arr`.\n",
        "* Apply the base-2 logarithm (`np.log2()`) to `arr21` and store the result in `log2_arr`.\n",
        "* Apply the floor function to `arr21` and store the result in `floor_arr`.\n",
        "* Apply the ceiling function to `arr21` and store the result in `ceil_arr`.\n",
        "* Square the values in `arr21` using `np.power()` and store the result in `squared_arr`.\n",
        "* Apply the exponential function to `arr21` using `np.exp()` and store the result in `exp_arr`.\n",
        "* Create a NumPy array `arr22` with both positive and negative values, and apply `np.abs()` to return the absolute values.\n",
        "\n",
        "Use assert statements to verify:\n",
        "\n",
        "* `log_arr` is approximately `[-2.302, 0, 2.303, 4.605]`\n",
        "* `log2_arr` is approximately `[-3.3219, 0, 3.3219, 6.6438]`\n",
        "* `floor_arr` is `[0, 1, 10, 100]`\n",
        "* `ceil_arr` is `[1, 1, 10, 100]`\n",
        "* `squared_arr` is approximately `[0.01, 1, 100, 1000]`\n",
        "* `exp_arr` is approximately `[1.105, 2.718, 22026.47, 2.6881171418161356e+43]`"
      ],
      "metadata": {
        "id": "I0_6yh3l_C36"
      }
    },
    {
      "cell_type": "code",
      "source": [
        "arr21 = np.array([0.1, 1, 10, 100])\n",
        "log_arr = np.log(arr21)\n",
        "log2_arr = np.log2(arr21)\n",
        "floor_arr = np.floor(arr21)\n",
        "ceil_arr = np.ceil(arr21)\n",
        "squared_arr = np.power(arr21, 2)\n",
        "exp_arr = np.exp(arr21)\n",
        "arr22 = np.abs(np.array([-1, 2, -3, 4]))\n",
        "\n",
        "# Assert statements to check your work\n",
        "assert np.allclose(log_arr, [-2.302, 0, 2.303, 4.605], atol=2), \"log_arr is incorrect!\"\n",
        "assert np.allclose(log2_arr, [-3.3219, 0, 3.3219, 6.6438]), \"log2_arr is incorrect!\"\n",
        "assert np.array_equal(floor_arr, np.array([0, 1, 10, 100])), \"floor_arr is incorrect!\"\n",
        "assert np.array_equal(ceil_arr, np.array([1, 1, 10, 100])), \"ceil_arr is incorrect!\"\n",
        "assert np.allclose(squared_arr, np.array([0.01, 1.0, 100.0, 10000.0]), atol=2), \"squared_arr is incorrect!\"\n",
        "assert np.allclose(exp_arr, [1.105, 2.718, 22026.47, 2.6881171418161356e+43], atol=1), \"exp_arr is incorrect!\""
      ],
      "metadata": {
        "id": "ZVapoj9n_7HZ"
      },
      "execution_count": null,
      "outputs": []
    },
    {
      "cell_type": "markdown",
      "source": [
        "## Section 11: Linear Algebra with NumPy\n",
        "\n",
        "In this section, you'll explore key linear algebra operations in NumPy, such as creating vectors and matrices, performing matrix-vector and matrix-matrix multiplications, and working with matrix properties like determinants and inverses.\n",
        "\n",
        "### Exercise 14: Vector Creation, Transpose, and Dot Product\n",
        "\n",
        "* Create a 1D NumPy array `vector1` with values `[1, 2, 3]` and a second array `vector2` with values `[4, 5, 6]`.\n",
        "* Compute the transpose of `vector1` (though it won't change because it's a 1D vector) (using `np.transpose`).\n",
        "* Calculate the dot product of `vector1` and `vector2` and store the result in `dot_product` (using `np.dot`).\n",
        "\n",
        "Use assert statements to verify:\n",
        "\n",
        "* `dot_product` is equal to 32 (i.e., `1∗4+2∗5+3∗6=321∗4+2∗5+3∗6=32`)."
      ],
      "metadata": {
        "id": "kiBo7u4TBckQ"
      }
    },
    {
      "cell_type": "code",
      "source": [
        "vector1 = np.array([1, 2, 3])\n",
        "vector2 = np.array([4, 5, 6])\n",
        "vector1_t = np.transpose(vector1)\n",
        "dot_product = np.dot(vector1, vector2)\n",
        "\n",
        "# Assert statements to check your work\n",
        "assert dot_product == 32, \"dot_product is incorrect!\""
      ],
      "metadata": {
        "id": "BMdRmKELBhwA"
      },
      "execution_count": null,
      "outputs": []
    },
    {
      "cell_type": "markdown",
      "source": [
        "### Exercise 15: Vector Norms\n",
        "\n",
        "* Create a 1D array `vector3` from the list `[3, 4]`.\n",
        "* Compute the L2 norm (Euclidean norm) of `vector3` using `np.linalg.norm()` and store it in `norm_l2`.\n",
        "* Compute the L1 norm (Manhattan norm) of `vector3` using `np.linalg.norm()` with `ord=1` and store it in `norm_l1`.\n",
        "\n",
        "Use assert statements to verify:\n",
        "\n",
        "* `norm_l2` is equal to 5.0\n",
        "* `norm_l1` is equal to 7.0"
      ],
      "metadata": {
        "id": "o0iNKEO-BvQn"
      }
    },
    {
      "cell_type": "code",
      "source": [
        "vector3 = np.array([3, 4])\n",
        "norm_l2 = np.linalg.norm(vector3)\n",
        "norm_l1 = np.linalg.norm(vector3, ord=1)\n",
        "\n",
        "# Assert statements to check your work\n",
        "assert np.isclose(norm_l2, 5.0), \"L2 norm is incorrect!\"\n",
        "assert np.isclose(norm_l1, 7.0), \"L1 norm is incorrect!\""
      ],
      "metadata": {
        "id": "VW0-ARcdBy9D"
      },
      "execution_count": null,
      "outputs": []
    },
    {
      "cell_type": "markdown",
      "source": [
        "### Exercise 16: Creating Matrices\n",
        "\n",
        "* Create a 3x3 identity matrix called `identity_matrix` using `np.eye()`.\n",
        "* Create a matrix `matrix1` from the list `[[1, 2, 3], [4, 5, 6], [7, 8, 9]]`.\n",
        "* Verify the shape of `matrix1` (`print()`).\n",
        "\n",
        "Use assert statements to verify:\n",
        "\n",
        "* `identity_matrix` is a 3x3 identity matrix.\n",
        "* `matrix1` has shape `(3, 3)`."
      ],
      "metadata": {
        "id": "msQGPIBXCBlY"
      }
    },
    {
      "cell_type": "code",
      "source": [
        "identity_matrix = np.eye(3)\n",
        "matrix1 = np.array([[1, 2, 3], [4, 5, 6], [7, 8, 9]])\n",
        "print(matrix1.shape)\n",
        "\n",
        "# Assert statements to check your work\n",
        "assert np.array_equal(identity_matrix, np.array([[1, 0, 0], [0, 1, 0], [0, 0, 1]])), \"identity_matrix is incorrect!\"\n",
        "assert matrix1.shape == (3, 3), \"matrix1 shape is incorrect!\""
      ],
      "metadata": {
        "id": "VAQE9kqECJ4L"
      },
      "execution_count": null,
      "outputs": []
    },
    {
      "cell_type": "markdown",
      "source": [
        "### Exercise 17: Matrix-Vector Multiplication (Transformations)\n",
        "\n",
        "* Create a 2x2 scaling matrix `scale_matrix` that scales by a factor of 2.\n",
        "* Create a 2D vector `vector4` from the list `[1, 1]`.\n",
        "* Perform matrix-vector multiplication between `scale_matrix` and `vector4` and store the result in `scaled_vector` (you can use `@`).\n",
        "\n",
        "Use assert statements to verify:\n",
        "\n",
        "* `scaled_vector` is equal to `[2, 2]`."
      ],
      "metadata": {
        "id": "BytNjeTMCLaL"
      }
    },
    {
      "cell_type": "code",
      "source": [
        "scale_matrix = np.array([[2, 0], [0, 2]])\n",
        "vector4 = np.array([1, 1])\n",
        "scaled_vector = scale_matrix @ vector4\n",
        "\n",
        "# Assert statements to check your work\n",
        "assert np.array_equal(scaled_vector, np.array([2, 2])), \"scaled_vector is incorrect!\""
      ],
      "metadata": {
        "id": "hNMJpbB-CM5z"
      },
      "execution_count": null,
      "outputs": []
    },
    {
      "cell_type": "markdown",
      "source": [
        "### Exercise 18: Matrix-Matrix Multiplication\n",
        "\n",
        "* Create a 2x2 matrix `matrix2` from the list `[[1, 2], [3, 4]]`.\n",
        "* Create another 2x2 matrix `matrix3` from the list `[[5, 6], [7, 8]]`.\n",
        "* Perform matrix-matrix multiplication between `matrix2` and `matrix3` and store the result in `matrix_product` (you can again use `@`).\n",
        "\n",
        "Use assert statements to verify:\n",
        "\n",
        "* `matrix_product` is equal to `[[19, 22], [43, 50]]`."
      ],
      "metadata": {
        "id": "U-_fWnuPCORi"
      }
    },
    {
      "cell_type": "code",
      "source": [
        "matrix2 = np.array([[1, 2], [3, 4]])\n",
        "matrix3 = np.array([[5, 6], [7, 8]])\n",
        "matrix_product = matrix2 @ matrix3\n",
        "\n",
        "# Assert statements to check your work\n",
        "assert np.array_equal(matrix_product, np.array([[19, 22], [43, 50]])), \"matrix_product is incorrect!\""
      ],
      "metadata": {
        "id": "XldwJZD7CQKo"
      },
      "execution_count": null,
      "outputs": []
    },
    {
      "cell_type": "markdown",
      "source": [
        "### Exercise 19: Diagonal and Trace\n",
        "\n",
        "* Create a 3x3 matrix `matrix4` from the list `[[2, 0, 1], [0, 3, 0], [4, 0, 5]]` (use `np.matrix`).\n",
        "* Extract the diagonal of matrix4 using `np.diag()` and store it in diagonal.\n",
        "* Compute the trace of `matrix4` (sum of the diagonal elements) using `np.trace()` and store it in `matrix_trace`.\n",
        "* Compute the trace using `np.diag()` and `np.sum`.\n",
        "\n",
        "Use assert statements to verify:\n",
        "\n",
        "* `diagonal` is `[2, 3, 5]`\n",
        "* `matrix_trace` is equal to 10"
      ],
      "metadata": {
        "id": "A0ySnoAZCSJ0"
      }
    },
    {
      "cell_type": "code",
      "source": [
        "matrix4 = np.matrix([[2, 0, 1], [0, 3, 0], [4, 0, 5]])\n",
        "diagonal = np.diag(matrix4)\n",
        "matrix_trace = np.trace(matrix4)\n",
        "matrix_trace2 = np.sum(diagonal)\n",
        "\n",
        "# Assert statements to check your work\n",
        "assert np.array_equal(diagonal, np.array([2, 3, 5])), \"diagonal is incorrect!\"\n",
        "assert matrix_trace == 10, \"matrix_trace is incorrect!\"\n",
        "assert matrix_trace2 == 10, \"matrix_trace2 is incorrect!\""
      ],
      "metadata": {
        "id": "-PsbUC1FCWPT"
      },
      "execution_count": null,
      "outputs": []
    },
    {
      "cell_type": "markdown",
      "source": [
        "### Exercise 20: Matrix Norm\n",
        "\n",
        "* Create a 3x3 matrix `matrix5` from the list `[[1, 2, 3], [4, 5, 6], [7, 8, 9]]`.\n",
        "* Compute the Frobenius norm (L2 norm) of `matrix5` using `np.linalg.norm()` and store it in `frobenius_norm`.\n",
        "\n",
        "Use assert statements to verify:\n",
        "\n",
        "* `frobenius_norm` is approximately `16.88`"
      ],
      "metadata": {
        "id": "pAbI_X-ZCYZp"
      }
    },
    {
      "cell_type": "code",
      "source": [
        "matrix5 = np.matrix([[1, 2, 3], [4, 5, 6], [7, 8, 9]])\n",
        "frobenius_norm = np.linalg.norm(matrix5)\n",
        "\n",
        "# Assert statements to check your work\n",
        "assert np.isclose(frobenius_norm, 16.88, atol=0.01), \"frobenius_norm is incorrect!\""
      ],
      "metadata": {
        "id": "GGAKs4OdCcbc"
      },
      "execution_count": null,
      "outputs": []
    },
    {
      "cell_type": "markdown",
      "source": [
        "### Exercise 21: Determinant\n",
        "\n",
        "* Create a 2x2 matrix `matrix6` from the list `[[4, 6], [3, 8]]`.\n",
        "* Compute the determinant of `matrix6` using `np.linalg.det()` and store the result in `determinant`.\n",
        "\n",
        "Use assert statements to verify:\n",
        "\n",
        "* `determinant` is equal to `14.0`"
      ],
      "metadata": {
        "id": "is_qpZuzCd4G"
      }
    },
    {
      "cell_type": "code",
      "source": [
        "matrix6 = np.matrix([[4, 6], [3, 8]])\n",
        "determinant = np.linalg.det(matrix6)\n",
        "\n",
        "# Assert statements to check your work\n",
        "assert np.isclose(determinant, 14.0), \"determinant is incorrect!\""
      ],
      "metadata": {
        "id": "2sU1s04FCgJP"
      },
      "execution_count": null,
      "outputs": []
    },
    {
      "cell_type": "markdown",
      "source": [
        "### Exercise 22: Matrix Inversion\n",
        "\n",
        "* Create a 2x2 matrix `matrix7` from the list `[[4, 7], [2, 6]]`.\n",
        "* Compute the inverse of `matrix7` using `np.linalg.inv()` and store the result in `inverse_matrix`.\n",
        "\n",
        "Use assert statements to verify:\n",
        "\n",
        "* `inverse_matrix` is approximately `[[0.6, -0.7], [-0.2, 0.4]]` (use `np.allclose()` for comparison)"
      ],
      "metadata": {
        "id": "92HMhZ33Chzd"
      }
    },
    {
      "cell_type": "code",
      "source": [
        "matrix7 = np.matrix([[4, 7], [2, 6]])\n",
        "inverse_matrix = np.linalg.inv(matrix7)\n",
        "\n",
        "# Assert statements to check your work\n",
        "assert np.allclose(inverse_matrix, np.array([[0.6, -0.7], [-0.2, 0.4]])), \"inverse_matrix is incorrect!\""
      ],
      "metadata": {
        "id": "h9_rry05CkyH"
      },
      "execution_count": null,
      "outputs": []
    },
    {
      "cell_type": "markdown",
      "source": [],
      "metadata": {
        "id": "TdvgMF6dCmSN"
      }
    }
  ]
}