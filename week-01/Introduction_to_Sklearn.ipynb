{
  "nbformat": 4,
  "nbformat_minor": 0,
  "metadata": {
    "colab": {
      "provenance": []
    },
    "kernelspec": {
      "name": "python3",
      "display_name": "Python 3"
    },
    "language_info": {
      "name": "python"
    }
  },
  "cells": [
    {
      "cell_type": "markdown",
      "source": [
        "# Introduction to scikit-learn\n",
        "\n",
        "scikit-learn is a popular Python library for machine learning, providing tools for classification, regression, clustering, dimensionality reduction, and more. In this notebook, you will learn to load datasets, perform supervised and unsupervised learning, and explore self-supervised learning.\n",
        "\n",
        "---\n",
        "\n",
        "## Part 1: Loading and Visualizing Datasets\n",
        "\n",
        "In this part, you'll learn how to load and visualize datasets using scikit-learn."
      ],
      "metadata": {
        "id": "qvjzLADllVZ6"
      }
    },
    {
      "cell_type": "code",
      "source": [
        "!pip install numpy\n",
        "!pip install matplotlib\n",
        "!pip install scikit-learn"
      ],
      "metadata": {
        "id": "YaqjoRVVnMb1"
      },
      "execution_count": null,
      "outputs": []
    },
    {
      "cell_type": "code",
      "source": [
        "import matplotlib.pyplot as plt\n",
        "from sklearn import datasets\n",
        "from sklearn.tree import DecisionTreeClassifier\n",
        "from sklearn.linear_model import LogisticRegression, LinearRegression\n",
        "from sklearn.decomposition import PCA\n",
        "from sklearn.neural_network import MLPClassifier\n",
        "import numpy as np"
      ],
      "metadata": {
        "id": "4lLqPU3Vodaw"
      },
      "execution_count": null,
      "outputs": []
    },
    {
      "cell_type": "markdown",
      "source": [
        "### Exercise 1: Load the Iris dataset\n",
        "\n",
        "- Load the Iris dataset using `datasets.load_iris()`.\n",
        "- Visualize the first two features using a scatter plot (`plt.scatter()`), with each species represented by a different color."
      ],
      "metadata": {
        "id": "SOIjgop_lZd7"
      }
    },
    {
      "cell_type": "code",
      "source": [
        "from sklearn import datasets\n",
        "import matplotlib.pyplot as plt\n",
        "\n",
        "# (Write your code below)"
      ],
      "metadata": {
        "id": "fIlM984OlcO_"
      },
      "execution_count": null,
      "outputs": []
    },
    {
      "cell_type": "markdown",
      "source": [
        "### Exercise 2: Load the Wine dataset\n",
        "\n",
        "* Load the Wine dataset using `datasets.load_wine()`.\n",
        "* Create a 2D scatter plot of the first two features of the dataset, using different colors for the three wine classes."
      ],
      "metadata": {
        "id": "KaaSxCy9ld56"
      }
    },
    {
      "cell_type": "code",
      "source": [
        "# (Write your code below)"
      ],
      "metadata": {
        "id": "s7bn7KcllmnT"
      },
      "execution_count": null,
      "outputs": []
    },
    {
      "cell_type": "markdown",
      "source": [
        "## Part 2: Supervised Learning\n",
        "\n",
        "In this part, you'll perform classification and regression using scikit-learn models.\n",
        "\n",
        "Classification: Decision Tree and Logistic Regression\n",
        "\n",
        "### Exercise 3: Classification with Decision Tree\n",
        "\n",
        "* Load the Iris dataset.\n",
        "* Train a Decision Tree classifier (`DecisionTreeClassifier()`) on the dataset.\n",
        "* Visualize the decision boundary using a scatter plot."
      ],
      "metadata": {
        "id": "ZBDUNAvwlom_"
      }
    },
    {
      "cell_type": "code",
      "source": [
        "import numpy as np\n",
        "from sklearn.tree import DecisionTreeClassifier\n",
        "\n",
        "# (Write your code below)"
      ],
      "metadata": {
        "id": "wm1zPRG3l2a7"
      },
      "execution_count": null,
      "outputs": []
    },
    {
      "cell_type": "markdown",
      "source": [
        "### Exercise 4: Classification with Logistic Regression\n",
        "\n",
        "* Load the Wine dataset.\n",
        "* Train a Logistic Regression model (`LogisticRegression()`) on the dataset.\n",
        "* Plot the decision boundary and visualize the predictions."
      ],
      "metadata": {
        "id": "bz7sHixil44q"
      }
    },
    {
      "cell_type": "code",
      "source": [
        "# (Write your code below)"
      ],
      "metadata": {
        "id": "U-6lfVXAl_ib"
      },
      "execution_count": null,
      "outputs": []
    },
    {
      "cell_type": "markdown",
      "source": [
        "### Exercise 5: Linear Regression on the California Housing dataset\n",
        "\n",
        "- Load the California Housing dataset using `datasets.fetch_california_housing()`.\n",
        "- Train a Linear Regression model (`LinearRegression()`) to predict house prices.\n",
        "- Plot the predicted values vs. the true values using `plt.scatter()`."
      ],
      "metadata": {
        "id": "gEB8s6e4mAp_"
      }
    },
    {
      "cell_type": "code",
      "source": [
        "# (Write your code below)"
      ],
      "metadata": {
        "id": "0wrjNZdPmT4u"
      },
      "execution_count": null,
      "outputs": []
    },
    {
      "cell_type": "markdown",
      "source": [
        "## Part 3: Unsupervised Learning (PCA)\n",
        "\n",
        "Principal Component Analysis (PCA) is used to reduce the dimensionality of data.\n",
        "\n",
        "### Exercise 6: PCA on the Iris dataset\n",
        "\n",
        "* Load the Iris dataset.\n",
        "* Apply PCA (`PCA()`) to reduce the dataset to 2 components.\n",
        "* Plot the two principal components, coloring the points by species."
      ],
      "metadata": {
        "id": "eLAz-zGBmVIE"
      }
    },
    {
      "cell_type": "code",
      "source": [
        "# (Write your code below)"
      ],
      "metadata": {
        "id": "kDsnygJbmcR6"
      },
      "execution_count": null,
      "outputs": []
    },
    {
      "cell_type": "markdown",
      "source": [
        "## Part 4: Self-Supervised Learning (Regression)\n",
        "\n",
        "In self-supervised learning, the target is extracted directly from the data rather than being provided externally. In this exercise, you'll create a synthetic dataset and extract a target signal from the data itself. You'll then train a regression model to predict this target signal."
      ],
      "metadata": {
        "id": "wE0x-3zJmdMV"
      }
    },
    {
      "cell_type": "markdown",
      "source": [
        "### Exercise 7: Self-Supervised Learning with Regression\n",
        "\n",
        "- Create a synthetic dataset with `datasets.make_regression()` that contains multiple features.\n",
        "- Use one feature (e.g., the first feature) as the target signal (`y`), and use the other features as inputs (`X`).\n",
        "- Train a regression model (`LinearRegression()`) to predict the target signal.\n",
        "- Plot the predicted vs. actual values for the target signal using `plt.scatter()`.\n",
        "\n",
        "```python\n",
        "# (Write your code below)\n"
      ],
      "metadata": {
        "id": "byzR_P-TqBgK"
      }
    }
  ]
}